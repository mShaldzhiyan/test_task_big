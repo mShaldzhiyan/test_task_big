{
 "cells": [
  {
   "cell_type": "code",
   "execution_count": 1,
   "metadata": {},
   "outputs": [],
   "source": [
    "import matplotlib.pyplot as plt\n",
    "from matplotlib.pyplot import imshow\n",
    "from tqdm import tqdm\n",
    "from PIL import Image, ImageDraw, ImageFont\n",
    "import pandas as pd\n",
    "import numpy as np\n",
    "import cv2\n",
    "import os\n",
    "from skimage.morphology import convex_hull_image, binary_closing, square, dilation\n",
    "from scipy import ndimage"
   ]
  },
  {
   "cell_type": "code",
   "execution_count": 2,
   "metadata": {},
   "outputs": [],
   "source": [
    "#  load all images from a directory\n",
    "def load_images_from_folder(folder):\n",
    "    images = []\n",
    "    filenames = []\n",
    "    for filename in tqdm(os.listdir(folder)):\n",
    "        try:\n",
    "            img = Image.open(os.path.join(folder,filename))\n",
    "            if img is not None:\n",
    "                if img.mode != 'RGB':\n",
    "                    img = img.convert('RGB')\n",
    "                img = np.array(img)\n",
    "                images.append(img)\n",
    "                filenames.append(filename)\n",
    "        except Exception as e:\n",
    "            print(e)\n",
    "    return images, filenames"
   ]
  },
  {
   "cell_type": "code",
   "execution_count": 3,
   "metadata": {},
   "outputs": [],
   "source": [
    "# load all jsons from a directory\n",
    "def load_jsons_from_folder(folder):\n",
    "    jsons = []\n",
    "    filenames = []\n",
    "    for filename in tqdm(os.listdir(folder)):\n",
    "        try:\n",
    "            json = pd.read_json(os.path.join(folder,filename))\n",
    "            if json is not None:\n",
    "                jsons.append(json)\n",
    "                filenames.append(filename)\n",
    "        except Exception as e:\n",
    "            print(e)\n",
    "    return jsons, filenames"
   ]
  },
  {
   "cell_type": "code",
   "execution_count": 4,
   "metadata": {},
   "outputs": [],
   "source": [
    "LOAD_CLEAN = False\n",
    "if LOAD_CLEAN:\n",
    "    human_parsing = load_images_from_folder('Task/dataset/human_parsing')\n",
    "    image = load_images_from_folder('Task/dataset/image')\n",
    "    pose_json = load_jsons_from_folder('Task/dataset/pose_json')\n",
    "    pose_img = load_images_from_folder('Task/dataset/pose_img')\n",
    "    df = pd.DataFrame()\n",
    "    df['human_parsing'] = human_parsing[0]\n",
    "    df['image'] = image[0]\n",
    "    df['pose_json'] = pose_json[0]\n",
    "    df['pose_img'] = pose_img[0]\n",
    "    df['ids'] = [a.split('.')[0] for a in image[1]]\n",
    "    df['pose_keypoints'] = df.pose_json.apply(lambda x: x.people[0].get('pose_keypoints_2d'))\n",
    "    left_ankles = [a[3*11:3*12-1] for a in tqdm(df.pose_keypoints)]\n",
    "    right_ankles = [a[3*14:3*15-1] for a in tqdm(df.pose_keypoints)]\n",
    "    df['left_ankles'] = left_ankles\n",
    "    df['right_ankles'] = right_ankles\n",
    "    df.to_pickle('df.pkl')\n",
    "else:\n",
    "    df = pd.read_pickle('df.pkl')"
   ]
  },
  {
   "cell_type": "code",
   "execution_count": 5,
   "metadata": {},
   "outputs": [],
   "source": [
    "def get_color_mask(img, colors):\n",
    "    mask = np.zeros(img.shape[:2], dtype=np.uint8)\n",
    "    for color in colors:\n",
    "        mask += np.all(img == color, axis=-1).astype(np.uint8)\n",
    "    return mask\n",
    "\n",
    "def clean_outliers(mask):\n",
    "    labels, num_labels = ndimage.label(mask)\n",
    "    component_sizes = ndimage.sum(mask, labels, range(num_labels + 1))\n",
    "    mask_largest_component = (labels == component_sizes.argmax())\n",
    "    return mask_largest_component\n",
    "\n",
    "def apply_mask(img, mask):\n",
    "    img = np.array(img)\n",
    "    img[mask] = (128, 128, 128)\n",
    "    return Image.fromarray(img)\n",
    "\n",
    "def ankle_mask(img, left_ankle, right_ankle):\n",
    "    try:\n",
    "        img = np.array(img)\n",
    "        mask = np.zeros(img.shape[:2], dtype=np.uint8)\n",
    "        x = [left_ankle[0], right_ankle[0]]\n",
    "        y = [left_ankle[1], right_ankle[1]]\n",
    "        m = (y[1] - y[0]) / (x[1] - x[0])\n",
    "        b = y[0] - m * x[0]\n",
    "        for i in range(img.shape[0]):\n",
    "            for j in range(img.shape[1]):\n",
    "                if i > m * j + b:\n",
    "                    mask[i, j] = 1\n",
    "        return mask\n",
    "    except Exception as e:\n",
    "        print(e)\n",
    "        return np.zeros(img.shape[:2], dtype=np.uint8)"
   ]
  },
  {
   "cell_type": "code",
   "execution_count": 6,
   "metadata": {},
   "outputs": [],
   "source": [
    "short_colors = {(64, 0, 128), (192, 0, 0)}\n",
    "legs_colors = {(128,64,0), (0,64,0)}\n",
    "\n",
    "shirt_colors = {(128,0,128), (128,128,128), (128,64,128)}\n",
    "hands_colors = {(192,128,128),(64,128,128)}"
   ]
  },
  {
   "cell_type": "code",
   "execution_count": 7,
   "metadata": {},
   "outputs": [],
   "source": [
    "RENDER = False\n",
    "if RENDER:\n",
    "    tqdm._instances.clear()\n",
    "    mask_shorts = [get_color_mask(a, short_colors) for a in tqdm(human_parsing[0])]\n",
    "    mask_shorts_clean = [clean_outliers(a) for a in tqdm(mask_shorts)]\n",
    "    mask_legs = [get_color_mask(a, legs_colors) for a in tqdm(human_parsing[0])]\n",
    "    mask_shirts = [get_color_mask(a, shirt_colors) for a in tqdm(human_parsing[0])]\n",
    "    mask_hands = [get_color_mask(a, hands_colors) for a in tqdm(human_parsing[0])]\n",
    "    mask_ankle = [ankle_mask(a, b, c) for a, b, c in tqdm(zip(df.image, df.left_ankles, df.right_ankles))]\n",
    "\n",
    "    \n",
    "    df['mask_shorts'] = mask_shorts\n",
    "    df['mask_legs'] = mask_legs\n",
    "    df['mask_shirts'] = mask_shirts\n",
    "    df['mask_hands'] = mask_hands\n",
    "    df['mask_ankle'] = mask_ankle\n",
    "    df.to_pickle('df_full.pkl')\n",
    "else:\n",
    "    df = pd.read_pickle('df_full.pkl')"
   ]
  },
  {
   "cell_type": "code",
   "execution_count": 18,
   "metadata": {},
   "outputs": [
    {
     "data": {
      "text/plain": [
       "<matplotlib.image.AxesImage at 0x16357508d90>"
      ]
     },
     "execution_count": 18,
     "metadata": {},
     "output_type": "execute_result"
    },
    {
     "data": {
      "image/png": "[encoded data removed]",
      "text/plain": [
       "<Figure size 640x480 with 1 Axes>"
      ]
     },
     "metadata": {},
     "output_type": "display_data"
    }
   ],
   "source": [
    "shorts = df.mask_shorts[0]\n",
    "left_ankle = df.left_ankles[0]\n",
    "right_ankle = df.right_ankles[0]\n",
    "image = df.image[0]\n",
    "\n",
    "def line_intersection(line1, line2):\n",
    "    xdiff = (line1[0][0] - line1[1][0], line2[0][0] - line2[1][0])\n",
    "    ydiff = (line1[0][1] - line1[1][1], line2[0][1] - line2[1][1])\n",
    "\n",
    "    def det(a, b):\n",
    "        return a[0] * b[1] - a[1] * b[0]\n",
    "\n",
    "    div = det(xdiff, ydiff)\n",
    "    if div == 0:\n",
    "       raise Exception('lines do not intersect')\n",
    "\n",
    "    d = (det(*line1), det(*line2))\n",
    "    x = det(d, xdiff) / div\n",
    "    y = det(d, ydiff) / div\n",
    "    return x, y\n",
    "\n",
    "def prolong_shorts(shorts, left_ankle, right_ankle):\n",
    "    shorts = convex_hull_image(shorts)\n",
    "\n",
    "    points = np.argwhere(shorts)\n",
    "    top_left = points[np.argmin(points.sum(axis=1))]\n",
    "    top_right = points[np.argmax(points.sum(axis=1))]\n",
    "    bottom_left = points[np.argmin(points[:, 0])]\n",
    "    bottom_right = points[np.argmax(points[:, 0])]\n",
    "    \n",
    "    ankle_line = ((left_ankle[0], left_ankle[1]), (right_ankle[0], right_ankle[1]))\n",
    "    # indices = np.argwhere(shorts)\n",
    "    # highest_left_point = indices[np.argmin(indices.sum(axis=1))]\n",
    "    # lowest_left_point = indices[np.argmin(indices[:, 0])]\n",
    "    left_line = ((top_left[0], top_left[1]), (bottom_left[0], bottom_left[1]))\n",
    "    left_intersection = line_intersection(left_line, ankle_line)\n",
    "\n",
    "    # highest_right_point = indices[np.argmax(indices[:, 1])]\n",
    "    # lowest_right_point = indices[np.argmax(indices[:, 0])]\n",
    "    right_line = ((top_right[0], top_right[1]), (bottom_right[0], bottom_right[1]))\n",
    "    right_intersection = line_intersection(right_line, ankle_line)\n",
    "\n",
    "\n",
    "    mask = Image.fromarray(np.zeros(shorts.shape, dtype=np.uint8))\n",
    "    draw = ImageDraw.Draw(mask)\n",
    "    draw.polygon([tuple(top_left), tuple(left_intersection), tuple(right_intersection), tuple(top_right)], outline=1, fill=1)\n",
    "    mask = np.array(mask)\n",
    "\n",
    "    return mask\n",
    "\n",
    "imshow(prolong_shorts(shorts, left_ankle, right_ankle))\n",
    "# imshow(prolong_shorts(shorts, left_ankle, right_ankle))"
   ]
  },
  {
   "cell_type": "code",
   "execution_count": 14,
   "metadata": {},
   "outputs": [
    {
     "data": {
      "text/plain": [
       "<matplotlib.image.AxesImage at 0x163579fcc70>"
      ]
     },
     "execution_count": 14,
     "metadata": {},
     "output_type": "execute_result"
    },
    {
     "data": {
      "image/png": "[encoded data removed]",
      "text/plain": [
       "<Figure size 640x480 with 1 Axes>"
      ]
     },
     "metadata": {},
     "output_type": "display_data"
    }
   ],
   "source": [
    "imshow(convex_hull_image(shorts))"
   ]
  },
  {
   "cell_type": "code",
   "execution_count": 15,
   "metadata": {},
   "outputs": [
    {
     "name": "stdout",
     "output_type": "stream",
     "text": [
      "[273 323] [561 592] [253 434] [605 347]\n"
     ]
    }
   ],
   "source": [
    "# detect 4 corner points of convex_hull_image(shorts)\n",
    "points = np.argwhere(shorts)\n",
    "top_left = points[np.argmin(points.sum(axis=1))]\n",
    "top_right = points[np.argmax(points[:, 1])]\n",
    "bottom_left = points[np.argmin(points[:, 0])]\n",
    "bottom_right = points[np.argmax(points[:, 0])]\n",
    "print(top_left, top_right, bottom_left, bottom_right)"
   ]
  },
  {
   "cell_type": "code",
   "execution_count": 10,
   "metadata": {},
   "outputs": [
    {
     "data": {
      "text/plain": [
       "<matplotlib.image.AxesImage at 0x16357570820>"
      ]
     },
     "execution_count": 10,
     "metadata": {},
     "output_type": "execute_result"
    },
    {
     "data": {
      "image/png": "[encoded data removed]",
      "text/plain": [
       "<Figure size 640x480 with 1 Axes>"
      ]
     },
     "metadata": {},
     "output_type": "display_data"
    }
   ],
   "source": [
    "imshow(df.mask_ankle[1])"
   ]
  },
  {
   "cell_type": "code",
   "execution_count": 11,
   "metadata": {},
   "outputs": [
    {
     "data": {
      "text/plain": [
       "<matplotlib.image.AxesImage at 0x16357736ec0>"
      ]
     },
     "execution_count": 11,
     "metadata": {},
     "output_type": "execute_result"
    },
    {
     "data": {
      "image/png": "[encoded data removed]",
      "text/plain": [
       "<Figure size 640x480 with 1 Axes>"
      ]
     },
     "metadata": {},
     "output_type": "display_data"
    }
   ],
   "source": [
    "imshow(df.mask_shorts[1])"
   ]
  },
  {
   "cell_type": "code",
   "execution_count": 12,
   "metadata": {},
   "outputs": [
    {
     "name": "stderr",
     "output_type": "stream",
     "text": [
      "2it [00:00,  8.64it/s]"
     ]
    },
    {
     "name": "stdout",
     "output_type": "stream",
     "text": [
      "((408.34454345703125, 429.498291015625), (343.884521484375, 323.2521057128906), 81.17961883544922)\n",
      "[[222.26472 284.37274]\n",
      " [541.69403 234.8061 ]\n",
      " [594.4244  574.62384]\n",
      " [274.99506 624.1905 ]]\n",
      "((396.9381408691406, 450.28704833984375), (365.2110290527344, 369.444580078125), 7.765166282653809)\n",
      "[[191.04865 608.64307]\n",
      " [240.96552 242.58618]\n",
      " [602.82764 291.93103]\n",
      " [552.91077 657.9879 ]]\n",
      "((381.79229736328125, 388.0443420410156), (302.7887268066406, 193.967041015625), 4.666858673095703)\n",
      "[[223.0091  472.38858]\n",
      " [238.79065 279.0646 ]\n",
      " [540.5755  303.7001 ]\n",
      " [524.79395 497.02408]]\n"
     ]
    },
    {
     "name": "stderr",
     "output_type": "stream",
     "text": [
      "5it [00:00,  8.76it/s]"
     ]
    },
    {
     "name": "stdout",
     "output_type": "stream",
     "text": [
      "((372.48736572265625, 496.80523681640625), (491.9331970214844, 312.1629333496094), 86.26860046386719)\n",
      "[[200.72946 261.5177 ]\n",
      " [512.23065 241.20241]\n",
      " [544.24524 732.0928 ]\n",
      " [232.74408 752.4081 ]]\n",
      "((395.2618408203125, 582.363525390625), (354.1285095214844, 423.1623840332031), 0.7638984322547913)\n",
      "[[215.39249 791.56525]\n",
      " [221.03415 368.4405 ]\n",
      " [575.1312  373.1618 ]\n",
      " [569.4895  796.28656]]\n"
     ]
    },
    {
     "name": "stderr",
     "output_type": "stream",
     "text": [
      "8it [00:00,  9.50it/s]"
     ]
    },
    {
     "name": "stdout",
     "output_type": "stream",
     "text": [
      "((344.9247741699219, 74.35507202148438), (187.84054565429688, 260.86102294921875), 47.321533203125)\n",
      "[[185.36926   93.72445 ]\n",
      " [377.1463   -83.108925]\n",
      " [504.4803    54.985695]\n",
      " [312.70325  231.81906 ]]\n",
      "((404.5, 400.0), (242.0, 253.0), 90.0)\n",
      "[[278. 279.]\n",
      " [531. 279.]\n",
      " [531. 521.]\n",
      " [278. 521.]]\n",
      "((319.72589111328125, 463.7090148925781), (473.2613220214844, 302.0970153808594), 81.04336547851562)\n",
      "[[133.67891 253.48   ]\n",
      " [432.0923  206.44746]\n",
      " [505.7729  673.93805]\n",
      " [207.3595  720.9706 ]]\n"
     ]
    },
    {
     "name": "stderr",
     "output_type": "stream",
     "text": [
      "10it [00:01,  8.64it/s]"
     ]
    },
    {
     "name": "stdout",
     "output_type": "stream",
     "text": [
      "((459.5112609863281, 576.8758544921875), (462.1784973144531, 677.1964721679688), 16.484453201293945)\n",
      "[[141.84152 835.9839 ]\n",
      " [333.99954 186.62234]\n",
      " [777.181   317.76782]\n",
      " [585.02295 967.1294 ]]\n",
      "((375.5, 549.5), (377.0, 263.0), 90.0)\n",
      "[[244. 361.]\n",
      " [507. 361.]\n",
      " [507. 738.]\n",
      " [244. 738.]]\n"
     ]
    },
    {
     "name": "stderr",
     "output_type": "stream",
     "text": [
      "12it [00:01,  8.27it/s]"
     ]
    },
    {
     "name": "stdout",
     "output_type": "stream",
     "text": [
      "((379.96551513671875, 459.18280029296875), (411.75640869140625, 258.3468017578125), 86.29156494140625)\n",
      "[[237.74655 262.0905 ]\n",
      " [495.5524  245.38086]\n",
      " [522.18445 656.2751 ]\n",
      " [264.37863 672.98474]]\n",
      "((387.0, 476.5), (459.0, 244.0), 90.0)\n",
      "[[265. 247.]\n",
      " [509. 247.]\n",
      " [509. 706.]\n",
      " [265. 706.]]\n"
     ]
    },
    {
     "name": "stderr",
     "output_type": "stream",
     "text": [
      "14it [00:01,  7.80it/s]"
     ]
    },
    {
     "name": "stdout",
     "output_type": "stream",
     "text": [
      "((401.8209228515625, 473.61968994140625), (231.5821990966797, 412.63409423828125), 4.258845329284668)\n",
      "[[271.02795 670.7681 ]\n",
      " [301.67114 259.27338]\n",
      " [532.6139  276.47125]\n",
      " [501.9707  687.966  ]]\n",
      "((362.104248046875, 531.4046630859375), (273.4411315917969, 540.0890502929688), 2.544804573059082)\n",
      "[[213.52838 795.11237]\n",
      " [237.50867 255.55598]\n",
      " [510.6801  267.69696]\n",
      " [486.69983 807.25336]]\n"
     ]
    },
    {
     "name": "stderr",
     "output_type": "stream",
     "text": [
      "16it [00:01,  8.66it/s]"
     ]
    },
    {
     "name": "stdout",
     "output_type": "stream",
     "text": [
      "((396.5, 384.5), (251.0, 249.0), 90.0)\n",
      "[[272. 259.]\n",
      " [521. 259.]\n",
      " [521. 510.]\n",
      " [272. 510.]]\n",
      "((376.34521484375, 194.1932373046875), (324.57342529296875, 378.71575927734375), 0.6986944079399109)\n",
      "[[211.76149   381.55807  ]\n",
      " [216.37965     2.8704672]\n",
      " [540.92896     6.8283997]\n",
      " [536.3108    385.51602  ]]\n"
     ]
    },
    {
     "name": "stderr",
     "output_type": "stream",
     "text": [
      "18it [00:02,  8.03it/s]"
     ]
    },
    {
     "name": "stdout",
     "output_type": "stream",
     "text": [
      "((383.40252685546875, 487.0086975097656), (428.5986022949219, 230.10250854492188), 84.89783477783203)\n",
      "[[249.74908 283.79022]\n",
      " [478.93988 263.32678]\n",
      " [517.05597 690.2272 ]\n",
      " [287.86517 710.6906 ]]\n",
      "((419.0, 532.0), (566.0, 364.0), 90.0)\n",
      "[[237. 249.]\n",
      " [601. 249.]\n",
      " [601. 815.]\n",
      " [237. 815.]]\n"
     ]
    },
    {
     "name": "stderr",
     "output_type": "stream",
     "text": [
      "20it [00:02,  8.60it/s]"
     ]
    },
    {
     "name": "stdout",
     "output_type": "stream",
     "text": [
      "((372.0, 471.0), (398.0, 212.0), 90.0)\n",
      "[[266. 272.]\n",
      " [478. 272.]\n",
      " [478. 670.]\n",
      " [266. 670.]]\n",
      "((385.0, 303.5), (581.0, 440.0), 90.0)\n",
      "[[165.  13.]\n",
      " [605.  13.]\n",
      " [605. 594.]\n",
      " [165. 594.]]\n"
     ]
    },
    {
     "name": "stderr",
     "output_type": "stream",
     "text": [
      "23it [00:02,  9.17it/s]"
     ]
    },
    {
     "name": "stdout",
     "output_type": "stream",
     "text": [
      "((381.0, 537.5), (485.0, 310.0), 90.0)\n",
      "[[226. 295.]\n",
      " [536. 295.]\n",
      " [536. 780.]\n",
      " [226. 780.]]\n",
      "((395.2212829589844, 487.47711181640625), (243.48297119140625, 216.67103576660156), 1.6846843957901)\n",
      "[[270.34744 592.1867 ]\n",
      " [276.71738 375.60934]\n",
      " [520.0951  382.76752]\n",
      " [513.7252  599.34485]]\n",
      "((400.5325622558594, 451.70184326171875), (330.6630554199219, 373.8094482421875), 88.45184326171875)\n",
      "[[209.22928 291.4803 ]\n",
      " [582.9023  281.38104]\n",
      " [591.8358  611.9234 ]\n",
      " [218.16284 622.02264]]\n"
     ]
    },
    {
     "name": "stderr",
     "output_type": "stream",
     "text": [
      "24it [00:02,  8.85it/s]"
     ]
    },
    {
     "name": "stdout",
     "output_type": "stream",
     "text": [
      "((384.7098693847656, 491.93408203125), (446.70538330078125, 235.5760040283203), 84.18102264404297)\n",
      "[[244.88402 281.67432]\n",
      " [479.24612 257.79022]\n",
      " [524.5357  702.19385]\n",
      " [290.1736  726.07794]]\n",
      "((380.9617614746094, 400.51788330078125), (238.55975341796875, 300.5438232421875), 85.47117614746094)\n",
      "[[221.74063 293.476  ]\n",
      " [521.34607 269.74487]\n",
      " [540.18286 507.55975]\n",
      " [240.57745 531.2909 ]]\n"
     ]
    },
    {
     "name": "stderr",
     "output_type": "stream",
     "text": [
      "27it [00:03,  9.35it/s]"
     ]
    },
    {
     "name": "stdout",
     "output_type": "stream",
     "text": [
      "((380.29852294921875, 457.0531005859375), (376.566162109375, 231.7306365966797), 88.21009063720703)\n",
      "[[258.60876 272.4809 ]\n",
      " [490.22632 265.24286]\n",
      " [501.98828 641.6253 ]\n",
      " [270.37073 648.86334]]\n",
      "((392.4000244140625, 443.70001220703125), (250.69320678710938, 396.56134033203125), 0.9240454435348511)\n",
      "[[263.87207 639.9334 ]\n",
      " [270.2674  243.42368]\n",
      " [520.928   247.46661]\n",
      " [514.53265 643.9763 ]]\n"
     ]
    },
    {
     "name": "stderr",
     "output_type": "stream",
     "text": [
      "29it [00:03,  8.37it/s]"
     ]
    },
    {
     "name": "stdout",
     "output_type": "stream",
     "text": [
      "((443.82427978515625, 409.2127380371094), (453.416259765625, 752.309814453125), 5.856013774871826)\n",
      "[[179.92058  760.27386 ]\n",
      " [256.67792   11.890039]\n",
      " [707.72797   58.15161 ]\n",
      " [630.97064  806.53546 ]]\n",
      "((399.5, 177.5), (347.0, 347.0), 90.0)\n",
      "[[226.   4.]\n",
      " [573.   4.]\n",
      " [573. 351.]\n",
      " [226. 351.]]\n"
     ]
    },
    {
     "name": "stderr",
     "output_type": "stream",
     "text": [
      "31it [00:03,  8.34it/s]"
     ]
    },
    {
     "name": "stdout",
     "output_type": "stream",
     "text": [
      "((391.35211181640625, 250.63426208496094), (499.21343994140625, 332.7257995605469), 86.42366790771484)\n",
      "[[209.74316   11.891052]\n",
      " [541.82104   -8.8638  ]\n",
      " [572.96106  489.37747 ]\n",
      " [240.88318  510.13232 ]]\n",
      "((367.90240478515625, 422.5323181152344), (547.661865234375, 282.93035888671875), 85.71085357666016)\n",
      "[[206.35365 160.04846]\n",
      " [488.4916  138.88812]\n",
      " [529.4512  685.0162 ]\n",
      " [247.3132  706.1765 ]]\n"
     ]
    },
    {
     "name": "stderr",
     "output_type": "stream",
     "text": [
      "33it [00:03,  7.30it/s]"
     ]
    },
    {
     "name": "stdout",
     "output_type": "stream",
     "text": [
      "((363.0, 486.5), (443.0, 362.0), 90.0)\n",
      "[[182. 265.]\n",
      " [544. 265.]\n",
      " [544. 708.]\n",
      " [182. 708.]]\n",
      "((366.7489013671875, 333.2287292480469), (625.40185546875, 397.7773132324219), 87.01570892333984)\n",
      "[[151.85007   31.306458]\n",
      " [549.08795   10.59729 ]\n",
      " [581.6477   635.151   ]\n",
      " [184.40985  655.86017 ]]\n"
     ]
    },
    {
     "name": "stderr",
     "output_type": "stream",
     "text": [
      "35it [00:04,  7.66it/s]"
     ]
    },
    {
     "name": "stdout",
     "output_type": "stream",
     "text": [
      "((387.58123779296875, 595.8245849609375), (495.2439880371094, 309.7506103515625), 85.10960388183594)\n",
      "[[212.15999 362.30716]\n",
      " [520.78296 335.9009 ]\n",
      " [563.0025  829.34204]\n",
      " [254.37952 855.7483 ]]\n",
      "((376.57952880859375, 557.0347900390625), (350.7207946777344, 626.0936889648438), 1.8476102352142334)\n",
      "[[191.21725 864.265  ]\n",
      " [211.40335 238.49686]\n",
      " [561.9418  249.80457]\n",
      " [541.75574 875.57275]]\n"
     ]
    },
    {
     "name": "stderr",
     "output_type": "stream",
     "text": [
      "37it [00:04,  6.68it/s]"
     ]
    },
    {
     "name": "stdout",
     "output_type": "stream",
     "text": [
      "((389.3953857421875, 242.38307189941406), (362.49658203125, 453.5783386230469), 3.1798300743103027)\n",
      "[[195.84616   458.76923  ]\n",
      " [221.00613     5.8892384]\n",
      " [582.9446     25.996918 ]\n",
      " [557.78467   478.8769   ]]\n",
      "((423.49981689453125, 426.0133056640625), (247.1913604736328, 346.7291564941406), 0.7638984322547913)\n",
      "[[297.60382 597.7147 ]\n",
      " [302.22644 251.01634]\n",
      " [549.3958  254.31189]\n",
      " [544.7732  601.01025]]\n"
     ]
    },
    {
     "name": "stderr",
     "output_type": "stream",
     "text": [
      "39it [00:04,  6.22it/s]"
     ]
    },
    {
     "name": "stdout",
     "output_type": "stream",
     "text": [
      "((374.7563781738281, 272.8314208984375), (538.3103637695312, 308.279052734375), 89.56594848632812)\n",
      "[[218.58228     4.851654 ]\n",
      " [526.8525      2.5162659]\n",
      " [530.9305    540.81116  ]\n",
      " [222.66028   543.1466   ]]\n",
      "((372.6876220703125, 456.1575927734375), (373.98004150390625, 218.60983276367188), 85.03025817871094)\n",
      "[[247.59476 279.3396 ]\n",
      " [465.38272 260.4015 ]\n",
      " [497.7805  632.9756 ]\n",
      " [279.99252 651.9137 ]]\n"
     ]
    },
    {
     "name": "stderr",
     "output_type": "stream",
     "text": [
      "41it [00:05,  7.11it/s]"
     ]
    },
    {
     "name": "stdout",
     "output_type": "stream",
     "text": [
      "((371.0, 212.0), (398.0, 290.0), 90.0)\n",
      "[[226.  13.]\n",
      " [516.  13.]\n",
      " [516. 411.]\n",
      " [226. 411.]]\n",
      "((379.6692199707031, 560.490966796875), (567.9534301757812, 431.4527587890625), 86.93350982666016)\n",
      "[[149.06046 288.4611 ]\n",
      " [579.8954  265.38065]\n",
      " [610.27795 832.5209 ]\n",
      " [179.44305 855.6013 ]]\n"
     ]
    },
    {
     "name": "stderr",
     "output_type": "stream",
     "text": [
      "43it [00:05,  8.20it/s]"
     ]
    },
    {
     "name": "stdout",
     "output_type": "stream",
     "text": [
      "((390.0, 172.0), (342.0, 352.0), 90.0)\n",
      "[[214.   1.]\n",
      " [566.   1.]\n",
      " [566. 343.]\n",
      " [214. 343.]]\n",
      "((383.0693359375, 479.1930847167969), (444.38360595703125, 339.2081604003906), 84.2894058227539)\n",
      "[[192.19804 274.98022]\n",
      " [529.72284 241.22772]\n",
      " [573.9406  683.40594]\n",
      " [236.41583 717.15845]]\n"
     ]
    },
    {
     "name": "stderr",
     "output_type": "stream",
     "text": [
      "45it [00:05,  8.66it/s]"
     ]
    },
    {
     "name": "stdout",
     "output_type": "stream",
     "text": [
      "((407.5, 379.5), (241.0, 271.0), 90.0)\n",
      "[[272. 259.]\n",
      " [543. 259.]\n",
      " [543. 500.]\n",
      " [272. 500.]]\n",
      "((377.5, 481.0), (774.0, 329.0), 90.0)\n",
      "[[213.  94.]\n",
      " [542.  94.]\n",
      " [542. 868.]\n",
      " [213. 868.]]\n"
     ]
    },
    {
     "name": "stderr",
     "output_type": "stream",
     "text": [
      "47it [00:05,  8.10it/s]"
     ]
    },
    {
     "name": "stdout",
     "output_type": "stream",
     "text": [
      "((373.2060546875, 466.6425476074219), (260.5765686035156, 493.0585021972656), 2.2025980949401855)\n",
      "[[233.53914 707.9823 ]\n",
      " [252.4889  215.28804]\n",
      " [512.873   225.3028 ]\n",
      " [493.92322 717.9971 ]]\n",
      "((389.14984130859375, 505.89691162109375), (470.6441650390625, 330.04351806640625), 86.42366790771484)\n",
      "[[209.77046 281.32684]\n",
      " [539.17126 260.73932]\n",
      " [568.52924 730.467  ]\n",
      " [239.12842 751.0545 ]]\n"
     ]
    },
    {
     "name": "stderr",
     "output_type": "stream",
     "text": [
      "49it [00:06,  7.92it/s]"
     ]
    },
    {
     "name": "stdout",
     "output_type": "stream",
     "text": [
      "((398.46136474609375, 400.7730712890625), (233.1088104248047, 342.8716735839844), 2.862405300140381)\n",
      "[[273.49127 566.17456]\n",
      " [290.61346 223.73068]\n",
      " [523.43146 235.37158]\n",
      " [506.30927 577.8154 ]]\n",
      "((371.4999694824219, 500.4999694824219), (324.99993896484375, 500.99993896484375), -0.0)\n",
      "[[209.      750.99994]\n",
      " [209.      250.     ]\n",
      " [533.99994 250.     ]\n",
      " [533.99994 750.99994]]\n"
     ]
    },
    {
     "name": "stderr",
     "output_type": "stream",
     "text": [
      "51it [00:06,  8.46it/s]"
     ]
    },
    {
     "name": "stdout",
     "output_type": "stream",
     "text": [
      "((350.4384765625, 506.9923095703125), (335.0177917480469, 432.7571716308594), 7.125016689300537)\n",
      "[[157.38464 700.9231 ]\n",
      " [211.06158 271.5077 ]\n",
      " [543.4923  313.06152]\n",
      " [489.81537 742.4769 ]]\n",
      "((374.5, 445.0), (614.0, 237.0), 90.0)\n",
      "[[256. 138.]\n",
      " [493. 138.]\n",
      " [493. 752.]\n",
      " [256. 752.]]\n",
      "((397.0240478515625, 478.56988525390625), (361.4017028808594, 385.45550537109375), 7.594643592834473)\n",
      "[[192.4367  645.7249 ]\n",
      " [243.37994 263.65067]\n",
      " [601.6114  311.41486]\n",
      " [550.66815 693.48914]]\n"
     ]
    },
    {
     "name": "stderr",
     "output_type": "stream",
     "text": [
      "54it [00:06,  8.63it/s]"
     ]
    },
    {
     "name": "stdout",
     "output_type": "stream",
     "text": [
      "((361.105224609375, 479.055419921875), (300.6553649902344, 151.30618286132812), 1.2188751697540283)\n",
      "[[209.20227 551.49365]\n",
      " [212.42084 400.2217 ]\n",
      " [513.0082  406.6172 ]\n",
      " [509.7896  557.88916]]\n",
      "((376.01556396484375, 458.7638244628906), (444.29083251953125, 348.9849853515625), 86.633544921875)\n",
      "[[188.77937 247.24826]\n",
      " [537.1622  226.75522]\n",
      " [563.2518  670.2794 ]\n",
      " [214.86896 690.77246]]\n"
     ]
    },
    {
     "name": "stderr",
     "output_type": "stream",
     "text": [
      "56it [00:06,  8.12it/s]"
     ]
    },
    {
     "name": "stdout",
     "output_type": "stream",
     "text": [
      "((355.423095703125, 485.6153564453125), (391.6438903808594, 386.9371337890625), 78.69007110595703)\n",
      "[[127.30772 331.53845]\n",
      " [506.7308  255.65385]\n",
      " [583.53845 639.69226]\n",
      " [204.11539 715.57684]]\n",
      "((406.0, 499.5), (403.0, 252.0), 90.0)\n",
      "[[280. 298.]\n",
      " [532. 298.]\n",
      " [532. 701.]\n",
      " [280. 701.]]\n"
     ]
    },
    {
     "name": "stderr",
     "output_type": "stream",
     "text": [
      "57it [00:06,  8.57it/s]"
     ]
    },
    {
     "name": "stdout",
     "output_type": "stream",
     "text": [
      "((369.95068359375, 487.53033447265625), (337.8437194824219, 469.18365478515625), 5.31454610824585)\n",
      "[[180.02629 705.4676 ]\n",
      " [223.48369 238.30086]\n",
      " [559.87506 269.59308]\n",
      " [516.41766 736.7598 ]]\n"
     ]
    },
    {
     "name": "stderr",
     "output_type": "stream",
     "text": [
      "60it [00:07,  7.67it/s]"
     ]
    },
    {
     "name": "stdout",
     "output_type": "stream",
     "text": [
      "((400.8057861328125, 565.326904296875), (249.7613067626953, 607.9957275390625), 1.9091522693634033)\n",
      "[[265.86682 864.9956 ]\n",
      " [286.12207 257.33743]\n",
      " [535.74475 265.6582 ]\n",
      " [515.4895  873.3164 ]]\n",
      "((354.3608703613281, 403.92645263671875), (276.839111328125, 254.2504425048828), 86.90594482421875)\n",
      "[[219.94974 272.57028]\n",
      " [473.82956 258.84708]\n",
      " [488.772   535.2826 ]\n",
      " [234.89218 549.00586]]\n",
      "((367.3786315917969, 419.3608703613281), (363.92889404296875, 246.02964782714844), 85.76361083984375)\n",
      "[[231.25792 246.9809 ]\n",
      " [476.61533 228.80627]\n",
      " [503.49933 591.74084]\n",
      " [258.14194 609.91547]]\n"
     ]
    },
    {
     "name": "stderr",
     "output_type": "stream",
     "text": [
      "62it [00:07,  7.44it/s]"
     ]
    },
    {
     "name": "stdout",
     "output_type": "stream",
     "text": [
      "((355.33013916015625, 470.3472595214844), (477.8962707519531, 284.54241943359375), 88.80650329589844)\n",
      "[[208.11276 234.41432]\n",
      " [492.59344 228.48763]\n",
      " [502.54752 706.2802 ]\n",
      " [218.06683 712.2069 ]]\n",
      "((391.3934326171875, 523.7493896484375), (533.238037109375, 305.0328063964844), 88.12212371826172)\n",
      "[[230.22203 262.27142]\n",
      " [535.09106 252.2757 ]\n",
      " [552.5648  785.22736]\n",
      " [247.6958  795.2231 ]]\n"
     ]
    },
    {
     "name": "stderr",
     "output_type": "stream",
     "text": [
      "64it [00:07,  7.66it/s]"
     ]
    },
    {
     "name": "stdout",
     "output_type": "stream",
     "text": [
      "((388.84521484375, 459.16754150390625), (219.15591430664062, 400.1946716308594), 4.085616588592529)\n",
      "[[265.28937 650.9492 ]\n",
      " [293.80206 251.77164]\n",
      " [512.40106 267.38586]\n",
      " [483.88837 666.5635 ]]\n",
      "((442.72802734375, 464.27130126953125), (261.4164123535156, 422.7034912109375), 0.902221143245697)\n",
      "[[308.70807 673.5387 ]\n",
      " [315.364   250.88762]\n",
      " [576.748   255.0039 ]\n",
      " [570.09204 677.65497]]\n"
     ]
    },
    {
     "name": "stderr",
     "output_type": "stream",
     "text": [
      "66it [00:08,  7.94it/s]"
     ]
    },
    {
     "name": "stdout",
     "output_type": "stream",
     "text": [
      "((331.3869323730469, 363.4666748046875), (423.3741760253906, 328.904296875), 79.87532806396484)\n",
      "[[132.28308  183.98521 ]\n",
      " [456.06555  126.166916]\n",
      " [530.4908   542.9481  ]\n",
      " [206.70831  600.7664  ]]\n",
      "((405.4046325683594, 394.1923828125), (327.3940734863281, 289.8739013671875), 4.573921203613281)\n",
      "[[230.67091 525.61365]\n",
      " [253.78694 236.66295]\n",
      " [580.13837 262.77112]\n",
      " [557.02234 551.7218 ]]\n",
      "((371.0277404785156, 384.7109375), (770.1696166992188, 368.30523681640625), 89.5060806274414)\n",
      "[[183.56236     1.2279053]\n",
      " [551.85394    -1.9470215]\n",
      " [558.4931    768.194    ]\n",
      " [190.20154   771.3689   ]]\n"
     ]
    },
    {
     "name": "stderr",
     "output_type": "stream",
     "text": [
      "69it [00:08,  8.04it/s]"
     ]
    },
    {
     "name": "stdout",
     "output_type": "stream",
     "text": [
      "((359.0, 395.0), (276.0, 350.0), 90.0)\n",
      "[[184. 257.]\n",
      " [534. 257.]\n",
      " [534. 533.]\n",
      " [184. 533.]]\n",
      "((381.0276794433594, 517.208740234375), (453.89459228515625, 344.4300842285156), 82.43856811523438)\n",
      "[[180.44637 314.8965 ]\n",
      " [521.8814  269.57327]\n",
      " [581.609   719.521  ]\n",
      " [240.17395 764.84424]]\n"
     ]
    },
    {
     "name": "stderr",
     "output_type": "stream",
     "text": [
      "71it [00:08,  7.77it/s]"
     ]
    },
    {
     "name": "stdout",
     "output_type": "stream",
     "text": [
      "((354.6080322265625, 441.32666015625), (222.3156280517578, 372.8093566894531), 1.6846843957901)\n",
      "[[238.01813 624.3828 ]\n",
      " [248.9784  251.73462]\n",
      " [471.19794 258.2705 ]\n",
      " [460.23767 630.9187 ]]\n",
      "((350.79742431640625, 396.370849609375), (247.0988311767578, 242.23533630371094), 84.95755004882812)\n",
      "[[219.28928 283.94507]\n",
      " [460.58713 262.6541 ]\n",
      " [482.30557 508.79663]\n",
      " [241.00772 530.0876 ]]\n"
     ]
    },
    {
     "name": "stderr",
     "output_type": "stream",
     "text": [
      "73it [00:09,  7.52it/s]"
     ]
    },
    {
     "name": "stdout",
     "output_type": "stream",
     "text": [
      "((379.7884521484375, 445.5716552734375), (229.1589813232422, 366.91241455078125), 4.4846062660217285)\n",
      "[[251.21509 619.5071 ]\n",
      " [279.90442 253.71802]\n",
      " [508.36182 271.63623]\n",
      " [479.6725  637.4253 ]]\n",
      "((368.74176025390625, 397.69757080078125), (210.10934448242188, 244.45455932617188), 2.385944366455078)\n",
      "[[258.6898  515.44543]\n",
      " [268.86655 271.2028 ]\n",
      " [478.79373 279.9497 ]\n",
      " [468.61697 524.1924 ]]\n"
     ]
    },
    {
     "name": "stderr",
     "output_type": "stream",
     "text": [
      "75it [00:09,  6.58it/s]"
     ]
    },
    {
     "name": "stdout",
     "output_type": "stream",
     "text": [
      "((378.0, 428.5), (315.0, 332.0), 90.0)\n",
      "[[212. 271.]\n",
      " [544. 271.]\n",
      " [544. 586.]\n",
      " [212. 586.]]\n",
      "((346.54656982421875, 295.1660461425781), (248.46580505371094, 403.5075378417969), 3.990912914276123)\n",
      "[[208.57321 487.7842 ]\n",
      " [236.65665  85.25511]\n",
      " [484.51993 102.54788]\n",
      " [456.4365  505.07697]]\n"
     ]
    },
    {
     "name": "stderr",
     "output_type": "stream",
     "text": [
      "76it [00:09,  6.88it/s]"
     ]
    },
    {
     "name": "stdout",
     "output_type": "stream",
     "text": [
      "((410.6260986328125, 591.1083984375), (429.24713134765625, 632.8617553710938), 3.814074993133545)\n",
      "[[175.42921 892.5619 ]\n",
      " [217.52657 261.1018 ]\n",
      " [645.823   289.6549 ]\n",
      " [603.72565 921.115  ]]\n",
      "((327.30047607421875, 460.42193603515625), (370.92828369140625, 232.82652282714844), 86.74278259277344)\n",
      "[[200.53748 281.87183]\n",
      " [432.98785 268.64294]\n",
      " [454.06348 638.97205]\n",
      " [221.6131  652.2009 ]]\n"
     ]
    },
    {
     "name": "stderr",
     "output_type": "stream",
     "text": [
      "78it [00:09,  7.69it/s]"
     ]
    },
    {
     "name": "stdout",
     "output_type": "stream",
     "text": [
      "((424.1446533203125, 494.04510498046875), (376.7271423339844, 225.037109375), 87.66268920898438)\n",
      "[[304.0378  310.427  ]\n",
      " [528.88763 301.24945]\n",
      " [544.25146 677.6632 ]\n",
      " [319.40167 686.84076]]\n",
      "((405.5, 527.5), (565.0, 407.0), 90.0)\n",
      "[[202. 245.]\n",
      " [609. 245.]\n",
      " [609. 810.]\n",
      " [202. 810.]]\n"
     ]
    },
    {
     "name": "stderr",
     "output_type": "stream",
     "text": [
      "79it [00:09,  6.89it/s]"
     ]
    },
    {
     "name": "stdout",
     "output_type": "stream",
     "text": [
      "((383.5, 565.0), (630.0, 413.0), 90.0)\n",
      "[[177. 250.]\n",
      " [590. 250.]\n",
      " [590. 880.]\n",
      " [177. 880.]]\n"
     ]
    },
    {
     "ename": "Exception",
     "evalue": "lines do not intersect",
     "output_type": "error",
     "traceback": [
      "\u001b[1;31m---------------------------------------------------------------------------\u001b[0m",
      "\u001b[1;31mException\u001b[0m                                 Traceback (most recent call last)",
      "Cell \u001b[1;32mIn[12], line 2\u001b[0m\n\u001b[0;32m      1\u001b[0m tqdm\u001b[39m.\u001b[39m_instances\u001b[39m.\u001b[39mclear()\n\u001b[1;32m----> 2\u001b[0m mask_prolonged_shorts \u001b[39m=\u001b[39m [prolong_shorts(a, b, c) \u001b[39mfor\u001b[39;00m a, b, c \u001b[39min\u001b[39;00m tqdm(\u001b[39mzip\u001b[39m(df\u001b[39m.\u001b[39mmask_shorts, df\u001b[39m.\u001b[39mleft_ankles, df\u001b[39m.\u001b[39mright_ankles))]\n",
      "Cell \u001b[1;32mIn[12], line 2\u001b[0m, in \u001b[0;36m<listcomp>\u001b[1;34m(.0)\u001b[0m\n\u001b[0;32m      1\u001b[0m tqdm\u001b[39m.\u001b[39m_instances\u001b[39m.\u001b[39mclear()\n\u001b[1;32m----> 2\u001b[0m mask_prolonged_shorts \u001b[39m=\u001b[39m [prolong_shorts(a, b, c) \u001b[39mfor\u001b[39;00m a, b, c \u001b[39min\u001b[39;00m tqdm(\u001b[39mzip\u001b[39m(df\u001b[39m.\u001b[39mmask_shorts, df\u001b[39m.\u001b[39mleft_ankles, df\u001b[39m.\u001b[39mright_ankles))]\n",
      "Cell \u001b[1;32mIn[8], line 48\u001b[0m, in \u001b[0;36mprolong_shorts\u001b[1;34m(shorts, left_ankle, right_ankle)\u001b[0m\n\u001b[0;32m     44\u001b[0m \u001b[39m# indices = np.argwhere(shorts)\u001b[39;00m\n\u001b[0;32m     45\u001b[0m \u001b[39m# highest_left_point = indices[np.argmin(indices.sum(axis=1))]\u001b[39;00m\n\u001b[0;32m     46\u001b[0m \u001b[39m# lowest_left_point = indices[np.argmin(indices[:, 0])]\u001b[39;00m\n\u001b[0;32m     47\u001b[0m left_line \u001b[39m=\u001b[39m ((top_left[\u001b[39m0\u001b[39m], top_left[\u001b[39m1\u001b[39m]), (bottom_left[\u001b[39m0\u001b[39m], bottom_left[\u001b[39m1\u001b[39m]))\n\u001b[1;32m---> 48\u001b[0m left_intersection \u001b[39m=\u001b[39m line_intersection(left_line, ankle_line)\n\u001b[0;32m     50\u001b[0m \u001b[39m# highest_right_point = indices[np.argmax(indices[:, 1])]\u001b[39;00m\n\u001b[0;32m     51\u001b[0m \u001b[39m# lowest_right_point = indices[np.argmax(indices[:, 0])]\u001b[39;00m\n\u001b[0;32m     52\u001b[0m right_line \u001b[39m=\u001b[39m ((top_right[\u001b[39m0\u001b[39m], top_right[\u001b[39m1\u001b[39m]), (bottom_right[\u001b[39m0\u001b[39m], bottom_right[\u001b[39m1\u001b[39m]))\n",
      "Cell \u001b[1;32mIn[8], line 15\u001b[0m, in \u001b[0;36mline_intersection\u001b[1;34m(line1, line2)\u001b[0m\n\u001b[0;32m     13\u001b[0m div \u001b[39m=\u001b[39m det(xdiff, ydiff)\n\u001b[0;32m     14\u001b[0m \u001b[39mif\u001b[39;00m div \u001b[39m==\u001b[39m \u001b[39m0\u001b[39m:\n\u001b[1;32m---> 15\u001b[0m    \u001b[39mraise\u001b[39;00m \u001b[39mException\u001b[39;00m(\u001b[39m'\u001b[39m\u001b[39mlines do not intersect\u001b[39m\u001b[39m'\u001b[39m)\n\u001b[0;32m     17\u001b[0m d \u001b[39m=\u001b[39m (det(\u001b[39m*\u001b[39mline1), det(\u001b[39m*\u001b[39mline2))\n\u001b[0;32m     18\u001b[0m x \u001b[39m=\u001b[39m det(d, xdiff) \u001b[39m/\u001b[39m div\n",
      "\u001b[1;31mException\u001b[0m: lines do not intersect"
     ]
    }
   ],
   "source": [
    "tqdm._instances.clear()\n",
    "mask_prolonged_shorts = [prolong_shorts(a, b, c) for a, b, c in tqdm(zip(df.mask_shorts, df.left_ankles, df.right_ankles))]"
   ]
  },
  {
   "cell_type": "code",
   "execution_count": null,
   "metadata": {},
   "outputs": [],
   "source": [
    "df['mask_prolonged_shorts'] = mask_prolonged_shorts"
   ]
  },
  {
   "cell_type": "code",
   "execution_count": null,
   "metadata": {},
   "outputs": [
    {
     "name": "stderr",
     "output_type": "stream",
     "text": [
      "704it [00:08, 87.11it/s] \n"
     ]
    }
   ],
   "source": [
    "# save processed_images to /preprocessed\n",
    "SAVE_PROCESSED = True\n",
    "if SAVE_PROCESSED:\n",
    "    for i, img in tqdm(enumerate(processed_images_withankles)):\n",
    "        img.save('C:/code/python/test_task_big/preprocessed_6/' + df.ids[i] + '.jpg')"
   ]
  },
  {
   "cell_type": "code",
   "execution_count": null,
   "metadata": {},
   "outputs": [],
   "source": [
    "img_cols = set(df.columns) - set(['ids', 'pose_keypoints', 'pose_json'])\n",
    "img_cols = [\n",
    "    'image',\n",
    "    'human_parsing',\n",
    "    'pose_img',\n",
    "    'mask_shorts',\n",
    "    'mask_legs',\n",
    "    'mask_legs_and_shorts',\n",
    "    'mask_shirts',\n",
    "    'mask_hands',\n",
    "    'mask_upper_body',\n",
    "    'mask_skirts_clean',\n",
    "    'mask_skirts_clean_no_outliers',\n",
    "    'mask_skirts_clean_convex',\n",
    "    'mask_skirts_final',\n",
    "    'mask_ankle'\n",
    "    'processed_images',\n",
    "    'processed_images_ankles'\n",
    " ]"
   ]
  },
  {
   "cell_type": "code",
   "execution_count": null,
   "metadata": {},
   "outputs": [],
   "source": [
    "def show_images_df(df, cols, index, save=False):\n",
    "    fig, axes = plt.subplots(1, len(cols), figsize=(20, 20))\n",
    "    for i, col in enumerate(cols):\n",
    "        axes[i].imshow(df[col][index])\n",
    "        axes[i].set_title(col)\n",
    "    if save:\n",
    "        fig.savefig('full_outs/' + df.ids[index] + '.jpg')\n",
    "    else:\n",
    "        plt.show()"
   ]
  },
  {
   "cell_type": "code",
   "execution_count": null,
   "metadata": {},
   "outputs": [],
   "source": [
    "img_cols = ['mask_ankle', 'processed_images', 'processed_images_ankles', 'mask_shorts', 'human_parsing', 'mask_skirts_clean', 'mask_skirts_clean_no_outliers', 'mask_prolonged_shorts']"
   ]
  },
  {
   "cell_type": "code",
   "execution_count": null,
   "metadata": {},
   "outputs": [
    {
     "data": {
      "text/plain": [
       "Int64Index([1], dtype='int64')"
      ]
     },
     "execution_count": 79,
     "metadata": {},
     "output_type": "execute_result"
    }
   ],
   "source": [
    "df[df.ids.str.contains('168764')].index"
   ]
  },
  {
   "cell_type": "code",
   "execution_count": null,
   "metadata": {},
   "outputs": [
    {
     "data": {
      "text/plain": [
       "Int64Index([229], dtype='int64')"
      ]
     },
     "execution_count": 89,
     "metadata": {},
     "output_type": "execute_result"
    }
   ],
   "source": [
    "df[df.ids.str.contains('178842')].index"
   ]
  },
  {
   "cell_type": "code",
   "execution_count": null,
   "metadata": {},
   "outputs": [
    {
     "data": {
      "image/png": "[encoded data removed]",
      "text/plain": [
       "<Figure size 2000x2000 with 8 Axes>"
      ]
     },
     "metadata": {},
     "output_type": "display_data"
    }
   ],
   "source": [
    "show_images_df(df, img_cols, 229)"
   ]
  },
  {
   "cell_type": "code",
   "execution_count": null,
   "metadata": {},
   "outputs": [],
   "source": [
    "# HELPER FUNCTIONS\n",
    "# def draw_pose(img, poses):\n",
    "#     draw = ImageDraw.Draw(img)\n",
    "#     for i in range(0, len(poses), 3):\n",
    "#         draw.ellipse((poses[i]-5, poses[i+1]-5, poses[i]+5, poses[i+1]+5), fill=(255, 0, 0, 255))\n",
    "#         draw.text((poses[i], poses[i+1]), str(i//3), fill=(255, 0, 0, 0), font= ImageFont.truetype(\"arial.ttf\", 30))\n",
    "#     return img\n",
    "# draw_pose(df.image[0], df.pose_keypoints[0])\n",
    "\n"
   ]
  }
 ],
 "metadata": {
  "kernelspec": {
   "display_name": "skirts",
   "language": "python",
   "name": "python3"
  },
  "language_info": {
   "codemirror_mode": {
    "name": "ipython",
    "version": 3
   },
   "file_extension": ".py",
   "mimetype": "text/x-python",
   "name": "python",
   "nbconvert_exporter": "python",
   "pygments_lexer": "ipython3",
   "version": "3.10.9"
  },
  "orig_nbformat": 4,
  "vscode": {
   "interpreter": {
    "hash": "89f085fd51f8d48a6db4ab3f88b5fca8f0c994474eaa3e43a6c160d94f56ce99"
   }
  }
 },
 "nbformat": 4,
 "nbformat_minor": 2
}
