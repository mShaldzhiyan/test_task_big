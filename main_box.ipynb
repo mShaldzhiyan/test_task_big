{
 "cells": [
  {
   "cell_type": "code",
   "execution_count": 1,
   "metadata": {},
   "outputs": [],
   "source": [
    "# in this approach we will use short-based boxes to draw line to the ankle points"
   ]
  },
  {
   "cell_type": "code",
   "execution_count": 23,
   "metadata": {},
   "outputs": [],
   "source": [
    "import pandas as pd\n",
    "import numpy as np\n",
    "from matplotlib.pyplot import imshow\n",
    "from tqdm import tqdm"
   ]
  },
  {
   "cell_type": "code",
   "execution_count": 3,
   "metadata": {},
   "outputs": [],
   "source": [
    "df = pd.read_pickle('df.pkl')"
   ]
  },
  {
   "cell_type": "code",
   "execution_count": 4,
   "metadata": {},
   "outputs": [
    {
     "data": {
      "text/html": [
       "<div>\n",
       "<style scoped>\n",
       "    .dataframe tbody tr th:only-of-type {\n",
       "        vertical-align: middle;\n",
       "    }\n",
       "\n",
       "    .dataframe tbody tr th {\n",
       "        vertical-align: top;\n",
       "    }\n",
       "\n",
       "    .dataframe thead th {\n",
       "        text-align: right;\n",
       "    }\n",
       "</style>\n",
       "<table border=\"1\" class=\"dataframe\">\n",
       "  <thead>\n",
       "    <tr style=\"text-align: right;\">\n",
       "      <th></th>\n",
       "      <th>human_parsing</th>\n",
       "      <th>image</th>\n",
       "      <th>pose_img</th>\n",
       "      <th>pose_json</th>\n",
       "      <th>pose_keypoints</th>\n",
       "      <th>convex_skirts</th>\n",
       "      <th>mask_shirts_closed</th>\n",
       "      <th>mask_upper_body</th>\n",
       "      <th>mask_legs_and_shorts</th>\n",
       "      <th>mask_shirts</th>\n",
       "    </tr>\n",
       "  </thead>\n",
       "  <tbody>\n",
       "    <tr>\n",
       "      <th>0</th>\n",
       "      <td>&lt;PIL.Image.Image image mode=RGB size=768x1024 ...</td>\n",
       "      <td>&lt;PIL.JpegImagePlugin.JpegImageFile image mode=...</td>\n",
       "      <td>&lt;PIL.PngImagePlugin.PngImageFile image mode=RG...</td>\n",
       "      <td>version                                    ...</td>\n",
       "      <td>[422.798, 7.55812, 0.125119, 394.295, 79.8684,...</td>\n",
       "      <td>[[False, False, False, False, False, False, Fa...</td>\n",
       "      <td>[[False, False, False, False, False, False, Fa...</td>\n",
       "      <td>[[0, 0, 0, 0, 0, 0, 0, 0, 0, 0, 0, 0, 0, 0, 0,...</td>\n",
       "      <td>[[0, 0, 0, 0, 0, 0, 0, 0, 0, 0, 0, 0, 0, 0, 0,...</td>\n",
       "      <td>[[0, 0, 0, 0, 0, 0, 0, 0, 0, 0, 0, 0, 0, 0, 0,...</td>\n",
       "    </tr>\n",
       "  </tbody>\n",
       "</table>\n",
       "</div>"
      ],
      "text/plain": [
       "                                       human_parsing  \\\n",
       "0  <PIL.Image.Image image mode=RGB size=768x1024 ...   \n",
       "\n",
       "                                               image  \\\n",
       "0  <PIL.JpegImagePlugin.JpegImageFile image mode=...   \n",
       "\n",
       "                                            pose_img  \\\n",
       "0  <PIL.PngImagePlugin.PngImageFile image mode=RG...   \n",
       "\n",
       "                                           pose_json  \\\n",
       "0     version                                    ...   \n",
       "\n",
       "                                      pose_keypoints  \\\n",
       "0  [422.798, 7.55812, 0.125119, 394.295, 79.8684,...   \n",
       "\n",
       "                                       convex_skirts  \\\n",
       "0  [[False, False, False, False, False, False, Fa...   \n",
       "\n",
       "                                  mask_shirts_closed  \\\n",
       "0  [[False, False, False, False, False, False, Fa...   \n",
       "\n",
       "                                     mask_upper_body  \\\n",
       "0  [[0, 0, 0, 0, 0, 0, 0, 0, 0, 0, 0, 0, 0, 0, 0,...   \n",
       "\n",
       "                                mask_legs_and_shorts  \\\n",
       "0  [[0, 0, 0, 0, 0, 0, 0, 0, 0, 0, 0, 0, 0, 0, 0,...   \n",
       "\n",
       "                                         mask_shirts  \n",
       "0  [[0, 0, 0, 0, 0, 0, 0, 0, 0, 0, 0, 0, 0, 0, 0,...  "
      ]
     },
     "execution_count": 4,
     "metadata": {},
     "output_type": "execute_result"
    }
   ],
   "source": [
    "df.head(1)"
   ]
  },
  {
   "cell_type": "code",
   "execution_count": 18,
   "metadata": {},
   "outputs": [],
   "source": [
    "short_colors = {(64, 0, 128), (192, 0, 0)}"
   ]
  },
  {
   "cell_type": "code",
   "execution_count": 19,
   "metadata": {},
   "outputs": [],
   "source": [
    "def get_color_mask(img, colors):\n",
    "    img = np.array(img)\n",
    "    mask = np.zeros(img.shape[:2], dtype=np.uint8)\n",
    "    for color in colors:\n",
    "        mask += np.all(img == color, axis=-1).astype(np.uint8)\n",
    "    return mask"
   ]
  },
  {
   "cell_type": "code",
   "execution_count": 24,
   "metadata": {},
   "outputs": [
    {
     "name": "stderr",
     "output_type": "stream",
     "text": [
      "100%|██████████| 704/704 [00:28<00:00, 25.00it/s]\n"
     ]
    }
   ],
   "source": [
    "df['mask_shorts'] = [get_color_mask(a, short_colors) for a in tqdm(df['human_parsing'])]"
   ]
  },
  {
   "cell_type": "code",
   "execution_count": 25,
   "metadata": {},
   "outputs": [],
   "source": [
    "# make 4 point arrays from mask_shorts\n",
    "def get_box_points(mask):\n",
    "    mask = np.array(mask)\n",
    "    points = np.argwhere(mask)\n",
    "    x_min, y_min = points.min(axis=0)\n",
    "    x_max, y_max = points.max(axis=0)\n",
    "    return np.array([x_min, y_min, x_max, y_max])"
   ]
  },
  {
   "cell_type": "code",
   "execution_count": 26,
   "metadata": {},
   "outputs": [
    {
     "name": "stderr",
     "output_type": "stream",
     "text": [
      "100%|██████████| 704/704 [00:03<00:00, 192.33it/s]\n"
     ]
    }
   ],
   "source": [
    "df['shorts_boxes'] = [get_box_points(a) for a in tqdm(df['mask_shorts'])]"
   ]
  },
  {
   "cell_type": "code",
   "execution_count": 46,
   "metadata": {},
   "outputs": [
    {
     "data": {
      "text/plain": [
       "[422.798,\n",
       " 7.55812,\n",
       " 0.125119,\n",
       " 394.295,\n",
       " 79.8684,\n",
       " 0.8518159999999999,\n",
       " 303.66,\n",
       " 79.7733,\n",
       " 0.7621100000000001,\n",
       " 320.732,\n",
       " 215.98,\n",
       " 0.836236,\n",
       " 487.858,\n",
       " 193.199,\n",
       " 0.8460759999999999,\n",
       " 476.559,\n",
       " 79.9503,\n",
       " 0.799931,\n",
       " 541.739,\n",
       " 218.774,\n",
       " 0.7829969999999999,\n",
       " 371.733,\n",
       " 221.548,\n",
       " 0.501814,\n",
       " 414.184,\n",
       " 340.53,\n",
       " 0.553848,\n",
       " 351.829,\n",
       " 340.551,\n",
       " 0.5503800000000001,\n",
       " 309.427,\n",
       " 598.319,\n",
       " 0.7281949999999999,\n",
       " 235.8,\n",
       " 896.071,\n",
       " 0.7591249999999999,\n",
       " 465.346,\n",
       " 337.705,\n",
       " 0.517478,\n",
       " 462.247,\n",
       " 626.72,\n",
       " 0.7748919999999999,\n",
       " 411.386,\n",
       " 864.817,\n",
       " 0.7735639999999999,\n",
       " 0,\n",
       " 0,\n",
       " 0,\n",
       " 0,\n",
       " 0,\n",
       " 0,\n",
       " 349.047,\n",
       " 7.57927,\n",
       " 0.0774477,\n",
       " 0,\n",
       " 0,\n",
       " 0,\n",
       " 436.87,\n",
       " 941.286,\n",
       " 0.6640969999999999,\n",
       " 453.918,\n",
       " 932.792,\n",
       " 0.666011,\n",
       " 385.891,\n",
       " 870.418,\n",
       " 0.743521,\n",
       " 230.008,\n",
       " 969.691,\n",
       " 0.6601549999999999,\n",
       " 210.156,\n",
       " 963.988,\n",
       " 0.647822,\n",
       " 247.063,\n",
       " 910.171,\n",
       " 0.414717]"
      ]
     },
     "execution_count": 46,
     "metadata": {},
     "output_type": "execute_result"
    }
   ],
   "source": [
    "df.pose_json[0].people[0]['pose_keypoints_2d'] # 3 for each point (x, y, confidence)"
   ]
  },
  {
   "cell_type": "code",
   "execution_count": 40,
   "metadata": {},
   "outputs": [
    {
     "data": {
      "text/plain": [
       "array([2.35800e+02, 8.96071e+02, 7.59125e-01])"
      ]
     },
     "execution_count": 40,
     "metadata": {},
     "output_type": "execute_result"
    }
   ],
   "source": [
    "get_pose(df['pose_json'][0])[11]"
   ]
  },
  {
   "cell_type": "code",
   "execution_count": null,
   "metadata": {},
   "outputs": [],
   "source": []
  }
 ],
 "metadata": {
  "kernelspec": {
   "display_name": "skirts",
   "language": "python",
   "name": "python3"
  },
  "language_info": {
   "codemirror_mode": {
    "name": "ipython",
    "version": 3
   },
   "file_extension": ".py",
   "mimetype": "text/x-python",
   "name": "python",
   "nbconvert_exporter": "python",
   "pygments_lexer": "ipython3",
   "version": "3.10.9"
  },
  "orig_nbformat": 4,
  "vscode": {
   "interpreter": {
    "hash": "89f085fd51f8d48a6db4ab3f88b5fca8f0c994474eaa3e43a6c160d94f56ce99"
   }
  }
 },
 "nbformat": 4,
 "nbformat_minor": 2
}
