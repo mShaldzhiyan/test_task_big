{
 "cells": [
  {
   "cell_type": "code",
   "execution_count": 1,
   "metadata": {},
   "outputs": [],
   "source": [
    "from skimage.morphology import convex_hull_image, binary_closing, square, dilation\n",
    "from PIL import Image, ImageDraw, ImageFont\n",
    "from matplotlib.pyplot import imshow\n",
    "from scipy.spatial import ConvexHull\n",
    "from joblib import Parallel, delayed\n",
    "import matplotlib.pyplot as plt\n",
    "from scipy import ndimage\n",
    "from tqdm import tqdm\n",
    "import pandas as pd\n",
    "import numpy as np\n",
    "import cv2\n",
    "import copy\n",
    "import math\n",
    "import os"
   ]
  },
  {
   "cell_type": "code",
   "execution_count": 2,
   "metadata": {},
   "outputs": [],
   "source": [
    "def load_images_from_folder(folder):\n",
    "    images = []\n",
    "    filenames = []\n",
    "    for filename in tqdm(os.listdir(folder)):\n",
    "        try:\n",
    "            img = Image.open(os.path.join(folder,filename))\n",
    "            if img is not None:\n",
    "                if img.mode != 'RGB':\n",
    "                    img = img.convert('RGB')\n",
    "                img = np.array(img)\n",
    "                images.append(img)\n",
    "                filenames.append(filename)\n",
    "        except Exception as e:\n",
    "            print(e)\n",
    "    return images, filenames"
   ]
  },
  {
   "cell_type": "code",
   "execution_count": 3,
   "metadata": {},
   "outputs": [],
   "source": [
    "def load_jsons_from_folder(folder):\n",
    "    jsons = []\n",
    "    filenames = []\n",
    "    for filename in tqdm(os.listdir(folder)):\n",
    "        try:\n",
    "            json = pd.read_json(os.path.join(folder,filename))\n",
    "            if json is not None:\n",
    "                jsons.append(json)\n",
    "                filenames.append(filename)\n",
    "        except Exception as e:\n",
    "            print(e)\n",
    "    return jsons, filenames"
   ]
  },
  {
   "cell_type": "code",
   "execution_count": 4,
   "metadata": {},
   "outputs": [
    {
     "name": "stderr",
     "output_type": "stream",
     "text": [
      "100%|██████████| 704/704 [00:12<00:00, 58.53it/s]\n",
      "  1%|▏         | 10/705 [00:00<00:20, 33.87it/s]"
     ]
    },
    {
     "name": "stdout",
     "output_type": "stream",
     "text": [
      "cannot identify image file 'Task/dataset/image\\\\.DS_Store'\n"
     ]
    },
    {
     "name": "stderr",
     "output_type": "stream",
     "text": [
      "100%|██████████| 705/705 [00:11<00:00, 60.34it/s]\n",
      "100%|██████████| 704/704 [00:07<00:00, 99.01it/s] \n",
      "100%|██████████| 704/704 [00:02<00:00, 264.14it/s]\n",
      "100%|██████████| 704/704 [00:00<00:00, 351313.51it/s]\n",
      "100%|██████████| 704/704 [00:00<00:00, 351941.60it/s]\n"
     ]
    }
   ],
   "source": [
    "LOAD_CLEAN = True\n",
    "if LOAD_CLEAN:\n",
    "    human_parsing = load_images_from_folder('Task/dataset/human_parsing')\n",
    "    image = load_images_from_folder('Task/dataset/image')\n",
    "    pose_img = load_images_from_folder('Task/dataset/pose_img')\n",
    "    pose_json = load_jsons_from_folder('Task/dataset/pose_json')\n",
    "    df = pd.DataFrame()\n",
    "    df['image'] = image[0]\n",
    "    df['human_parsing'] = human_parsing[0]\n",
    "    df['pose_img'] = pose_img[0]\n",
    "    df['pose_json'] = pose_json[0]\n",
    "    df['ids'] = [a.split('.')[0] for a in image[1]]\n",
    "    df['pose_keypoints'] = df.pose_json.apply(lambda x: x.people[0].get('pose_keypoints_2d'))\n",
    "    left_ankles = [a[3*11:3*12-1] for a in tqdm(df.pose_keypoints)]\n",
    "    right_ankles = [a[3*14:3*15-1] for a in tqdm(df.pose_keypoints)]\n",
    "    df['left_ankles'] = left_ankles\n",
    "    df['right_ankles'] = right_ankles\n",
    "    df.to_pickle('df.pkl')\n",
    "else:\n",
    "    df = pd.read_pickle('df.pkl')"
   ]
  },
  {
   "cell_type": "code",
   "execution_count": 5,
   "metadata": {},
   "outputs": [],
   "source": [
    "total_len = len(df)"
   ]
  },
  {
   "cell_type": "code",
   "execution_count": 6,
   "metadata": {},
   "outputs": [],
   "source": [
    "def get_color_mask(img, colors):\n",
    "    mask = np.zeros(img.shape[:2], dtype=np.uint8)\n",
    "    for color in colors:\n",
    "        mask += np.all(img == color, axis=-1).astype(np.uint8)\n",
    "    return mask\n",
    "\n",
    "def clean_outliers(mask):\n",
    "    labels, num_labels = ndimage.label(mask)\n",
    "    component_sizes = ndimage.sum(mask, labels, range(num_labels + 1))\n",
    "    mask_largest_component = (labels == component_sizes.argmax())\n",
    "    return mask_largest_component\n",
    "\n",
    "def apply_mask(img, mask):\n",
    "    img = np.array(img)\n",
    "    img[mask] = (128, 128, 128)\n",
    "    return Image.fromarray(img)\n",
    "\n",
    "def ankle_mask(img, left_ankle, right_ankle):\n",
    "    try:\n",
    "        img = np.array(img)\n",
    "        mask = np.zeros(img.shape[:2], dtype=np.uint8)\n",
    "        x = [left_ankle[0], right_ankle[0]]\n",
    "        y = [left_ankle[1], right_ankle[1]]\n",
    "        m = (y[1] - y[0]) / (x[1] - x[0])\n",
    "        b = y[0] - m * x[0]\n",
    "        for i in range(img.shape[0]):\n",
    "            for j in range(img.shape[1]):\n",
    "                if i > m * j + b:\n",
    "                    mask[i, j] = 1\n",
    "        return mask\n",
    "    except Exception as e:\n",
    "        print(e)\n",
    "        return np.zeros(img.shape[:2], dtype=np.uint8)\n",
    "\n",
    "def horizontal_ankle_mask(img, left_ankle, right_ankle):\n",
    "    points = [a[1] for a in [left_ankle, right_ankle] if a != 0]\n",
    "    if len(points) == 0:\n",
    "        return np.zeros(img.shape[:2], dtype=np.uint8)\n",
    "    else:\n",
    "        # draw horizontal line on highest point\n",
    "        mask = np.zeros(img.shape[:2], dtype=np.uint8)\n",
    "        y = min(points)\n",
    "        for i in range(img.shape[0]):\n",
    "            for j in range(img.shape[1]):\n",
    "                if i > y:\n",
    "                    mask[i, j] = 1\n",
    "        return mask\n",
    "\n",
    "def lowest_point_horizontal_mask(img, mask):\n",
    "    points = np.argwhere(mask == 1)\n",
    "    y = max(points[:, 0])\n",
    "    mask = np.zeros(img.shape[:2], dtype=np.uint8)\n",
    "    for i in range(img.shape[0]):\n",
    "        for j in range(img.shape[1]):\n",
    "            if i > y:\n",
    "                mask[i, j] = 1\n",
    "    return mask\n",
    "\n",
    "def highest_point_horizontal_mask(img, mask):\n",
    "    try:\n",
    "        points = np.argwhere(mask == 1)\n",
    "        y = min(points[:, 0])\n",
    "        mask = np.zeros(img.shape[:2], dtype=np.uint8)\n",
    "        for i in range(img.shape[0]):\n",
    "            for j in range(img.shape[1]):\n",
    "                if i >= y:\n",
    "                    mask[i, j] = 1\n",
    "        if np.all(mask):\n",
    "            return np.zeros(img.shape[:2], dtype=np.uint8)\n",
    "        else:\n",
    "            return mask\n",
    "    except Exception as e:\n",
    "        return np.zeros(img.shape[:2], dtype=np.uint8)"
   ]
  },
  {
   "cell_type": "code",
   "execution_count": 7,
   "metadata": {},
   "outputs": [],
   "source": [
    "short_colors = {(64, 0, 128), (192, 0, 0)}\n",
    "legs_colors = {(128,64,0), (0,64,0)}\n",
    "\n",
    "shirt_colors = {(128,0,128), (128,128,128), (128,64,128)}\n",
    "hands_colors = {(192,128,128),(64,128,128)}\n",
    "\n",
    "feet_colors = {(0, 192, 0), (128, 192,0)}"
   ]
  },
  {
   "cell_type": "code",
   "execution_count": 8,
   "metadata": {},
   "outputs": [
    {
     "name": "stderr",
     "output_type": "stream",
     "text": [
      "100%|██████████| 704/704 [00:09<00:00, 74.00it/s] \n",
      "100%|██████████| 704/704 [00:06<00:00, 104.22it/s]\n",
      "100%|██████████| 704/704 [00:04<00:00, 144.29it/s]\n",
      "100%|██████████| 704/704 [00:05<00:00, 123.15it/s]\n",
      "100%|██████████| 704/704 [00:05<00:00, 138.81it/s]\n",
      "704it [00:06, 111.65it/s]\n",
      "704it [00:04, 147.25it/s]\n",
      "100%|██████████| 704/704 [00:08<00:00, 85.11it/s] \n",
      "100%|██████████| 704/704 [00:06<00:00, 103.06it/s]\n",
      "704it [00:06, 104.64it/s]\n"
     ]
    }
   ],
   "source": [
    "RENDER = True\n",
    "if RENDER:\n",
    "    tqdm._instances.clear()\n",
    "    mask_shorts = Parallel(n_jobs=-1)(delayed(get_color_mask)(a, short_colors) for a in tqdm(df.human_parsing))\n",
    "    mask_shorts_clean = Parallel(n_jobs=-1)(delayed(clean_outliers)(a) for a in tqdm(mask_shorts))\n",
    "    mask_legs = Parallel(n_jobs=-1)(delayed(get_color_mask)(a, legs_colors) for a in tqdm(df.human_parsing))\n",
    "    mask_shirts = Parallel(n_jobs=-1)(delayed(get_color_mask)(a, shirt_colors) for a in tqdm(df.human_parsing))\n",
    "    mask_hands = Parallel(n_jobs=-1)(delayed(get_color_mask)(a, hands_colors) for a in tqdm(df.human_parsing))\n",
    "    mask_ankle = Parallel(n_jobs=-1)(delayed(ankle_mask)(a, b, c) for a, b, c in tqdm(zip(df.image, df.left_ankles, df.right_ankles)))\n",
    "    mask_ankle_horizontal = Parallel(n_jobs=-1)(delayed(horizontal_ankle_mask)(a, b, c) for a, b, c in tqdm(zip(df.image, df.left_ankles, df.right_ankles)))\n",
    "    mask_shirts_clean = Parallel(n_jobs=-1)(delayed(clean_outliers)(a) for a in tqdm(mask_shirts))\n",
    "    mask_shorts_clean = Parallel(n_jobs=-1)(delayed(clean_outliers)(a) for a in tqdm(mask_shorts_clean))\n",
    "    mask_shorts_horizontal = Parallel(n_jobs=-1)(delayed(lowest_point_horizontal_mask)(a, b) for a, b in tqdm(zip(df.image, mask_shorts)))\n",
    "    \n",
    "    df['mask_shorts'] = mask_shorts\n",
    "    df['mask_legs'] = mask_legs\n",
    "    df['mask_shirts'] = mask_shirts\n",
    "    df['mask_hands'] = mask_hands\n",
    "    df['mask_ankle'] = mask_ankle\n",
    "    df['mask_ankle_horizontal'] = mask_ankle_horizontal\n",
    "    df['mask_shorts_clean'] = mask_shorts_clean\n",
    "    df['mask_shirts_clean'] = mask_shirts_clean\n",
    "    df['mask_shorts_horizontal'] = mask_shorts_horizontal\n",
    "    df.to_pickle('df_full.pkl')\n",
    "else:\n",
    "    df = pd.read_pickle('df_full.pkl')"
   ]
  },
  {
   "cell_type": "code",
   "execution_count": 9,
   "metadata": {},
   "outputs": [],
   "source": [
    "left_ankles_ = [a if a[0] < b[0] else b for a,b in zip(df.left_ankles, df.right_ankles)]\n",
    "right_ankles_ = [b if a[0] < b[0] else a for a,b in zip(df.left_ankles, df.right_ankles)]\n",
    "df['left_ankles_fix'] = left_ankles_\n",
    "df['right_ankles_fix'] = right_ankles_"
   ]
  },
  {
   "cell_type": "code",
   "execution_count": 10,
   "metadata": {},
   "outputs": [],
   "source": [
    "ANKLE_DISTANCE_X = 100\n",
    "ANKLE_DISTANCE_Y = 50\n",
    "df['left_ankles_anchors'] = df.left_ankles_fix.apply(lambda x: (x[0]-ANKLE_DISTANCE_X, x[1]-ANKLE_DISTANCE_Y))\n",
    "df['right_ankles_anchors'] = df.right_ankles_fix.apply(lambda x: (x[0]+ANKLE_DISTANCE_X, x[1]-ANKLE_DISTANCE_Y))"
   ]
  },
  {
   "cell_type": "code",
   "execution_count": 11,
   "metadata": {},
   "outputs": [
    {
     "name": "stderr",
     "output_type": "stream",
     "text": [
      "704it [00:06, 102.95it/s]\n"
     ]
    }
   ],
   "source": [
    "mask_ankle_anchors = Parallel(n_jobs=-1)(delayed(ankle_mask)(a, b, c) for a, b, c in tqdm(zip(df.image, df.left_ankles_anchors, df.right_ankles_anchors)))\n",
    "df['mask_ankle_anchors'] = mask_ankle_anchors"
   ]
  },
  {
   "cell_type": "code",
   "execution_count": 12,
   "metadata": {},
   "outputs": [
    {
     "data": {
      "text/plain": [
       "(1024, 768)"
      ]
     },
     "execution_count": 12,
     "metadata": {},
     "output_type": "execute_result"
    }
   ],
   "source": [
    "IMGSIZE = df.image[0].shape[0:2]\n",
    "IMGSIZE"
   ]
  },
  {
   "cell_type": "code",
   "execution_count": 13,
   "metadata": {},
   "outputs": [],
   "source": [
    "def mask_from_point(point):\n",
    "    mask = np.zeros(IMGSIZE, dtype=np.uint8)\n",
    "    point = np.int0(point)\n",
    "    mask[point[1], point[0]] = 1\n",
    "    return mask"
   ]
  },
  {
   "cell_type": "code",
   "execution_count": 14,
   "metadata": {},
   "outputs": [],
   "source": [
    "df['mask_left_ankle'] = [mask_from_point(a) for a in df.left_ankles_anchors]\n",
    "df['mask_right_ankle'] = [mask_from_point(a) for a in df.right_ankles_anchors]"
   ]
  },
  {
   "cell_type": "code",
   "execution_count": 15,
   "metadata": {},
   "outputs": [
    {
     "name": "stderr",
     "output_type": "stream",
     "text": [
      "704it [00:06, 108.52it/s]\n"
     ]
    }
   ],
   "source": [
    "tqdm._instances.clear()\n",
    "mask_shorts_ankles = Parallel(n_jobs=-1)(\n",
    "    delayed(convex_hull_image)(a + b + c) for a, b, c in tqdm(zip(df.mask_shorts_clean, df.mask_left_ankle, df.mask_right_ankle))\n",
    ")"
   ]
  },
  {
   "cell_type": "code",
   "execution_count": 16,
   "metadata": {},
   "outputs": [],
   "source": [
    "df['mask_shorts_ankles'] = mask_shorts_ankles\n",
    "df['mask_shorts_ankles_legs'] = df.mask_shorts_ankles + df.mask_legs"
   ]
  },
  {
   "cell_type": "code",
   "execution_count": 17,
   "metadata": {},
   "outputs": [],
   "source": [
    "df.mask_shirts = df.mask_shirts.apply(lambda x: x.astype(np.bool_))\n",
    "df.mask_hands = df.mask_hands.apply(lambda x: x.astype(np.bool_))\n",
    "df.mask_ankle_anchors = df.mask_ankle_anchors.apply(lambda x: x.astype(np.bool_))\n",
    "df['mask_final'] = df.mask_shorts_ankles_legs *~ df.mask_shirts_clean *~ df.mask_hands *~ df.mask_ankle_anchors"
   ]
  },
  {
   "cell_type": "code",
   "execution_count": 18,
   "metadata": {},
   "outputs": [
    {
     "data": {
      "text/plain": [
       "0"
      ]
     },
     "execution_count": 18,
     "metadata": {},
     "output_type": "execute_result"
    }
   ],
   "source": [
    "m = ~df.mask_final.map(np.any)\n",
    "df.loc[m, 'mask_final'] = df[m].mask_shorts_ankles_legs\n",
    "sum(~df.mask_final.map(np.any))"
   ]
  },
  {
   "cell_type": "code",
   "execution_count": 19,
   "metadata": {},
   "outputs": [],
   "source": [
    "def get_by_id(df, id):\n",
    "    return df[df.ids.str.contains(str(id))].index"
   ]
  },
  {
   "cell_type": "code",
   "execution_count": 20,
   "metadata": {},
   "outputs": [],
   "source": [
    "def apply_mask(img, mask):\n",
    "    img[mask >= 1] = (128, 128, 128)\n",
    "    return Image.fromarray(img)"
   ]
  },
  {
   "cell_type": "code",
   "execution_count": 21,
   "metadata": {},
   "outputs": [],
   "source": [
    "noleftankle = df.left_ankles.apply(lambda x: x == [0,0])\n",
    "norightankle = df.right_ankles.apply(lambda x: x == [0,0])\n",
    "noankles = noleftankle & norightankle\n",
    "df['noankles'] = noankles"
   ]
  },
  {
   "cell_type": "code",
   "execution_count": 22,
   "metadata": {},
   "outputs": [],
   "source": [
    "df_noankles = df[df.noankles].reset_index(drop=True)\n",
    "df = df[~df.noankles].reset_index(drop=True)"
   ]
  },
  {
   "cell_type": "code",
   "execution_count": 23,
   "metadata": {},
   "outputs": [],
   "source": [
    "def get_highest_y_ankles(ankles):\n",
    "    ankles = [a[1] for a in ankles if a[1] != 0]\n",
    "    return max(ankles)"
   ]
  },
  {
   "cell_type": "code",
   "execution_count": 24,
   "metadata": {},
   "outputs": [],
   "source": [
    "lowest_y_shorts = [np.argmax(a.T[0]) for a in df.mask_shorts_horizontal]\n",
    "highest_y_ankles = [get_highest_y_ankles([a,b]) for a, b, in zip(df.left_ankles, df.right_ankles)]\n",
    "df['lowest_y_shorts'] = lowest_y_shorts\n",
    "df['highest_y_ankles'] = highest_y_ankles\n",
    "df['shorts_ankle_distance'] = df.highest_y_ankles - df.lowest_y_shorts"
   ]
  },
  {
   "cell_type": "code",
   "execution_count": 25,
   "metadata": {},
   "outputs": [
    {
     "data": {
      "text/plain": [
       "<AxesSubplot: >"
      ]
     },
     "execution_count": 25,
     "metadata": {},
     "output_type": "execute_result"
    },
    {
     "data": {
      "image/png": "[encoded data removed]",
      "text/plain": [
       "<Figure size 640x480 with 1 Axes>"
      ]
     },
     "metadata": {},
     "output_type": "display_data"
    }
   ],
   "source": [
    "df.shorts_ankle_distance.hist(bins=100)"
   ]
  },
  {
   "cell_type": "code",
   "execution_count": 26,
   "metadata": {},
   "outputs": [
    {
     "data": {
      "text/plain": [
       "False    587\n",
       "True     105\n",
       "Name: is_skirt, dtype: int64"
      ]
     },
     "execution_count": 26,
     "metadata": {},
     "output_type": "execute_result"
    }
   ],
   "source": [
    "DRESS_THRESHOLD = 100\n",
    "df['is_skirt'] = df.shorts_ankle_distance < DRESS_THRESHOLD\n",
    "df.is_skirt.value_counts()"
   ]
  },
  {
   "cell_type": "code",
   "execution_count": 27,
   "metadata": {},
   "outputs": [],
   "source": [
    "df_skirts = df[df.is_skirt == True].reset_index(drop=True)\n",
    "df = df[~df.is_skirt].reset_index(drop=True)"
   ]
  },
  {
   "cell_type": "code",
   "execution_count": 28,
   "metadata": {},
   "outputs": [],
   "source": [
    "def show_images_df(df, cols, index, cols_per_row=5, save=False, annotate=True, path='full_outs/'):\n",
    "    # try:\n",
    "    num_images = len(cols)\n",
    "    num_rows = (num_images + cols_per_row - 1) // cols_per_row + 1\n",
    "    fig, axes = plt.subplots(num_rows, cols_per_row, figsize=(20, 4*num_rows))\n",
    "    t = df.loc[index]\n",
    "    for i, col in enumerate(cols):\n",
    "        row = i // cols_per_row\n",
    "        col_index = i % cols_per_row\n",
    "        image = t[col]\n",
    "        if num_rows == 1:\n",
    "            axes[col_index].set_title(col)\n",
    "            axes[col_index].imshow(image)\n",
    "            axes[col_index].axis('off')\n",
    "        else:\n",
    "            axes[row, col_index].set_title(col)\n",
    "            axes[row, col_index].imshow(image)\n",
    "            axes[row, col_index].axis('off')\n",
    "    \n",
    "    if annotate:\n",
    "        annotation = f'''\n",
    "        shorts ankle distance: {t.shorts_ankle_distance}\n",
    "        is skirt: {t.is_skirt}\n",
    "        no ankles: {t.noankles}\n",
    "        lowest_y_shorts: {t.lowest_y_shorts}\n",
    "        highest_y_ankles: {t.highest_y_ankles}\n",
    "        left_ankles: {t.left_ankles}\n",
    "        right_ankles: {t.right_ankles}\n",
    "        '''\n",
    "        fig.text(0.12, 0.1, annotation, fontsize=24)\n",
    "        \n",
    "    # Hide the empty axes\n",
    "    for i in range(num_images, num_rows*cols_per_row):\n",
    "        if num_rows == 1:\n",
    "            axes[i].set_visible(False)\n",
    "        else:\n",
    "            row = i // cols_per_row\n",
    "            col_index = i % cols_per_row\n",
    "            axes[row, col_index].set_visible(False)\n",
    "\n",
    "    if save:\n",
    "        plt.savefig(path + df.ids[index] + '.jpg')\n",
    "        plt.close()\n",
    "    else:\n",
    "        plt.show()"
   ]
  },
  {
   "cell_type": "code",
   "execution_count": 29,
   "metadata": {},
   "outputs": [
    {
     "name": "stderr",
     "output_type": "stream",
     "text": [
      "100%|██████████| 587/587 [00:05<00:00, 115.38it/s]\n",
      "587it [00:05, 108.63it/s]\n"
     ]
    }
   ],
   "source": [
    "tqdm._instances.clear()\n",
    "images = df['image'].tolist()\n",
    "images = [copy.deepcopy(arr) for arr in tqdm(images)]\n",
    "processed_img = [apply_mask(a, b) for a, b in tqdm(zip(images, df['mask_final']))]\n",
    "df['processed_img'] = processed_img"
   ]
  },
  {
   "cell_type": "code",
   "execution_count": 30,
   "metadata": {},
   "outputs": [
    {
     "name": "stderr",
     "output_type": "stream",
     "text": [
      "100%|██████████| 105/105 [00:00<00:00, 143.64it/s]\n",
      "105it [00:01, 104.20it/s]\n"
     ]
    }
   ],
   "source": [
    "tqdm._instances.clear()\n",
    "images = df_skirts['image'].tolist()\n",
    "images = [copy.deepcopy(arr) for arr in tqdm(images)]\n",
    "processed_img = [apply_mask(a, b) for a, b in tqdm(zip(images, df_skirts['mask_shorts']))]\n",
    "df_skirts['processed_img'] = processed_img"
   ]
  },
  {
   "cell_type": "code",
   "execution_count": 31,
   "metadata": {},
   "outputs": [
    {
     "data": {
      "text/plain": [
       "(1024, 768)"
      ]
     },
     "execution_count": 31,
     "metadata": {},
     "output_type": "execute_result"
    }
   ],
   "source": [
    "IMGSIZE"
   ]
  },
  {
   "cell_type": "code",
   "execution_count": 32,
   "metadata": {},
   "outputs": [
    {
     "name": "stderr",
     "output_type": "stream",
     "text": [
      "12it [00:01,  7.04it/s]\n",
      "100%|██████████| 12/12 [00:00<00:00, 19.74it/s]\n",
      "12it [00:00, 58.81it/s]\n",
      "100%|██████████| 12/12 [00:00<00:00, 120.58it/s]\n",
      "12it [00:00, 88.31it/s]\n"
     ]
    }
   ],
   "source": [
    "tqdm._instances.clear()\n",
    "images = df_noankles['image'].tolist()\n",
    "\n",
    "# df_noankles['left_ankles_anchors'] = df_noankles.left_ankles_fix.apply(lambda x: (x[0]-ANKLE_DISTANCE_X, IMGSIZE[0]-1))\n",
    "# df_noankles['right_ankles_anchors'] = df_noankles.right_ankles_fix.apply(lambda x: (x[0]+ANKLE_DISTANCE_X, IMGSIZE[0]-1))\n",
    "# df_noankles['mask_left_ankle'] = [mask_from_point(a) for a in df_noankles.left_ankles_anchors]\n",
    "# df_noankles['mask_right_ankle'] = [mask_from_point(a) for a in df_noankles.right_ankles_anchors]\n",
    "# mask_ankle_anchors = Parallel(n_jobs=-1)(delayed(ankle_mask)(a, b, c) for a, b, c in tqdm(zip(df_noankles.image, df_noankles.left_ankles_anchors, df_noankles.right_ankles_anchors)))\n",
    "# df_noankles['mask_ankle_anchors'] = mask_ankle_anchors\n",
    "# df_noankles['mask_shorts_ankles'] = [convex_hull_image(a + b + c) for a, b, c in tqdm(zip(df_noankles.mask_shorts_clean, df_noankles.mask_left_ankle, df_noankles.mask_right_ankle))]\n",
    "\n",
    "df_noankles['mask_final'] = [convex_hull_image(a + b) for a, b in tqdm(zip(df_noankles.mask_shorts_clean, df_noankles.mask_legs))]\n",
    "df_noankles['mask_feet'] = [get_color_mask(a, feet_colors) for a in tqdm(df_noankles.human_parsing)]\n",
    "df_noankles['mask_feet_horizontal'] = [highest_point_horizontal_mask(a, b) for a, b in tqdm(zip(df_noankles.image, df_noankles.mask_feet))]\n",
    "df_noankles.mask_feet = df_noankles.mask_feet.apply(lambda x: x.astype(np.bool_))\n",
    "df_noankles.mask_feet_horizontal = df_noankles.mask_feet_horizontal.apply(lambda x: x.astype(np.bool_))\n",
    "df_noankles['mask_final'] = df_noankles.mask_final * ~df_noankles.mask_feet_horizontal\n",
    "\n",
    "images = [copy.deepcopy(arr) for arr in tqdm(images)]\n",
    "processed_img = [apply_mask(a, b) for a, b in tqdm(zip(images, df_noankles['mask_final']))]\n",
    "df_noankles['processed_img'] = processed_img"
   ]
  },
  {
   "cell_type": "markdown",
   "metadata": {},
   "source": [
    "df.columns"
   ]
  },
  {
   "cell_type": "code",
   "execution_count": 33,
   "metadata": {},
   "outputs": [],
   "source": [
    "img_cols = [\n",
    "    'image',\n",
    "    'human_parsing',\n",
    "    'pose_img',\n",
    "    'mask_shorts',\n",
    "    'mask_shorts_ankles',\n",
    "    'mask_shirts_clean',\n",
    "    'mask_hands',\n",
    "    'mask_final',\n",
    "    'mask_shorts_clean',\n",
    "    'mask_ankle_anchors',\n",
    "    'mask_ankle_horizontal',\n",
    "    'mask_shorts_horizontal',\n",
    "    'processed_img'\n",
    "]\n"
   ]
  },
  {
   "cell_type": "code",
   "execution_count": 34,
   "metadata": {},
   "outputs": [],
   "source": [
    "assert(total_len == len(df) + len(df_skirts) + len(df_noankles))"
   ]
  },
  {
   "cell_type": "code",
   "execution_count": 35,
   "metadata": {},
   "outputs": [],
   "source": [
    "RENDER_EXTRAS = True"
   ]
  },
  {
   "cell_type": "code",
   "execution_count": 36,
   "metadata": {},
   "outputs": [
    {
     "name": "stderr",
     "output_type": "stream",
     "text": [
      "100%|██████████| 587/587 [17:26<00:00,  1.78s/it]\n"
     ]
    }
   ],
   "source": [
    "if RENDER_EXTRAS:\n",
    "    for i in tqdm(range(len(df))):\n",
    "        show_images_df(df, img_cols, i, path='main_imgs/', save=True)"
   ]
  },
  {
   "cell_type": "code",
   "execution_count": 37,
   "metadata": {},
   "outputs": [
    {
     "name": "stderr",
     "output_type": "stream",
     "text": [
      "100%|██████████| 105/105 [03:49<00:00,  2.18s/it]\n"
     ]
    }
   ],
   "source": [
    "if RENDER_EXTRAS:\n",
    "    for i in tqdm(range(len(df_skirts))):\n",
    "        show_images_df(df_skirts, img_cols, i, path='dress_imgs/', save=True)"
   ]
  },
  {
   "cell_type": "code",
   "execution_count": 38,
   "metadata": {},
   "outputs": [],
   "source": [
    "img_cols_noankles = [\n",
    "    'image',\n",
    "    'human_parsing',\n",
    "    'pose_img',\n",
    "    'mask_shorts',\n",
    "    'mask_shorts_ankles',\n",
    "    'mask_shirts_clean',\n",
    "    'mask_hands',\n",
    "    'mask_final',\n",
    "    'mask_shorts_clean',\n",
    "    'mask_ankle_anchors',\n",
    "    'mask_ankle_horizontal',\n",
    "    'mask_shorts_horizontal',\n",
    "    'mask_feet',\n",
    "    'mask_feet_horizontal',\n",
    "    'processed_img'\n",
    "]"
   ]
  },
  {
   "cell_type": "code",
   "execution_count": 39,
   "metadata": {},
   "outputs": [
    {
     "name": "stderr",
     "output_type": "stream",
     "text": [
      "100%|██████████| 12/12 [00:24<00:00,  2.07s/it]\n"
     ]
    }
   ],
   "source": [
    "if RENDER_EXTRAS:\n",
    "    for i in tqdm(range(len(df_noankles))):\n",
    "        show_images_df(df_noankles, img_cols_noankles, i, path='noankles_imgs/', save=True, annotate=False)"
   ]
  },
  {
   "cell_type": "code",
   "execution_count": 40,
   "metadata": {},
   "outputs": [],
   "source": [
    "SAVE_PATH = 'C:/code/python/test_task_big/preprocessed_13/'"
   ]
  },
  {
   "cell_type": "code",
   "execution_count": 41,
   "metadata": {},
   "outputs": [
    {
     "name": "stderr",
     "output_type": "stream",
     "text": [
      "587it [00:10, 55.66it/s]\n"
     ]
    }
   ],
   "source": [
    "SAVE_PROCESSED = True\n",
    "if SAVE_PROCESSED:\n",
    "    for i, img in tqdm(enumerate(df.processed_img)):\n",
    "        img.save(SAVE_PATH + df.ids[i] + '.jpg')"
   ]
  },
  {
   "cell_type": "code",
   "execution_count": 42,
   "metadata": {},
   "outputs": [
    {
     "name": "stderr",
     "output_type": "stream",
     "text": [
      "105it [00:01, 63.62it/s]\n"
     ]
    }
   ],
   "source": [
    "if SAVE_PROCESSED:\n",
    "    for i, img in tqdm(enumerate(df_skirts.processed_img)):\n",
    "        img.save(SAVE_PATH + df_skirts.ids[i] + '.jpg')"
   ]
  },
  {
   "cell_type": "code",
   "execution_count": 43,
   "metadata": {},
   "outputs": [
    {
     "name": "stderr",
     "output_type": "stream",
     "text": [
      "12it [00:00, 74.08it/s]\n"
     ]
    }
   ],
   "source": [
    "if SAVE_PROCESSED:\n",
    "    for i, img in tqdm(enumerate(df_noankles.processed_img)):\n",
    "        img.save(SAVE_PATH + df_noankles.ids[i] + '.jpg')"
   ]
  },
  {
   "cell_type": "code",
   "execution_count": 44,
   "metadata": {},
   "outputs": [],
   "source": [
    "# HELPER FUNCTIONS\n",
    "# def draw_pose(img, poses):\n",
    "#     draw = ImageDraw.Draw(img)\n",
    "#     for i in range(0, len(poses), 3):\n",
    "#         draw.ellipse((poses[i]-5, poses[i+1]-5, poses[i]+5, poses[i+1]+5), fill=(255, 0, 0, 255))\n",
    "#         draw.text((poses[i], poses[i+1]), str(i//3), fill=(255, 0, 0, 0), font= ImageFont.truetype(\"arial.ttf\", 30))\n",
    "#     return img\n",
    "# draw_pose(df.image[0], df.pose_keypoints[0])"
   ]
  },
  {
   "cell_type": "code",
   "execution_count": 45,
   "metadata": {},
   "outputs": [],
   "source": [
    "# def line_intersection(line1, line2):\n",
    "#     xdiff = (line1[0][0] - line1[1][0], line2[0][0] - line2[1][0])\n",
    "#     ydiff = (line1[0][1] - line1[1][1], line2[0][1] - line2[1][1])\n",
    "\n",
    "#     def det(a, b):\n",
    "#         return a[0] * b[1] - a[1] * b[0]\n",
    "\n",
    "#     div = det(xdiff, ydiff)\n",
    "#     if div == 0:\n",
    "#        raise Exception('lines do not intersect')\n",
    "\n",
    "#     d = (det(*line1), det(*line2))\n",
    "#     x = det(d, xdiff) / div\n",
    "#     y = det(d, ydiff) / div\n",
    "#     return x, y\n",
    "\n",
    "# def order_points(pts):\n",
    "#     # initialzie a list of coordinates that will be ordered\n",
    "#     # such that the first entry in the list is the top-left,\n",
    "#     # the second entry is the top-right, the third is the\n",
    "#     # bottom-right, and the fourth is the bottom-left\n",
    "#     rect = np.zeros((4, 2), dtype = \"float32\")\n",
    "\n",
    "#     # the top-left point will have the smallest sum, whereas\n",
    "#     # the bottom-right point will have the largest sum\n",
    "#     s = pts.sum(axis = 1)\n",
    "#     rect[0] = pts[np.argmin(s)]\n",
    "#     rect[2] = pts[np.argmax(s)]\n",
    "\n",
    "#     # now, compute the difference between the points, the\n",
    "#     # top-right point will have the smallest difference,\n",
    "#     # whereas the bottom-left will have the largest difference\n",
    "#     diff = np.diff(pts, axis = 1)\n",
    "#     rect[1] = pts[np.argmin(diff)]\n",
    "#     rect[3] = pts[np.argmax(diff)]\n",
    "\n",
    "#     # return the ordered coordinates\n",
    "#     return rect\n",
    "\n",
    "# def get_box(mask):\n",
    "#     mask = convex_hull_image(clean_outliers(mask))\n",
    "#     box = cv2.goodFeaturesToTrack(\n",
    "#         mask.astype(np.uint8), \n",
    "#         maxCorners=4, \n",
    "#         minDistance=20, \n",
    "#         blockSize=20,\n",
    "#         qualityLevel=0.001)\n",
    "#     box = np.array([a[0] for a in box])\n",
    "#     box = order_points(box)\n",
    "#     box = np.int0(box)\n",
    "#     return box\n",
    "#     # top_left, top_right, bottom_right, bottom_left = box\n",
    "\n",
    "# def prolong_shorts(shorts, left_ankle, right_ankle):\n",
    "#     try:\n",
    "#         top_left, top_right, bottom_right, bottom_left = get_box(shorts)\n",
    "#         ankle_line = ((left_ankle[0], left_ankle[1]), (right_ankle[0], right_ankle[1]))\n",
    "#         left_line = ((top_left[0], top_left[1]), (bottom_left[0], bottom_left[1]))\n",
    "#         left_intersection = line_intersection(left_line, ankle_line)\n",
    "#         right_line = ((top_right[0], top_right[1]), (bottom_right[0], bottom_right[1]))\n",
    "#         right_intersection = line_intersection(right_line, ankle_line)\n",
    "#         mask = Image.fromarray(np.zeros(shorts.shape, dtype=np.uint8))\n",
    "#         draw = ImageDraw.Draw(mask)\n",
    "#         draw.polygon([tuple(top_left), tuple(left_intersection), tuple(right_intersection), tuple(top_right)], outline=1, fill=1)\n",
    "#         mask = np.array(mask)\n",
    "#         mask = mask\n",
    "#         return mask\n",
    "#     except Exception as e:\n",
    "#         print(e)\n",
    "#         return None\n",
    "\n",
    "# # N = 36\n",
    "# # imshow(prolong_shorts(df.mask_shorts[N], df.left_ankles[N], df.right_ankles[N]))\n",
    "\n",
    "# # tqdm._instances.clear()\n",
    "# # boxes_shorts = Parallel(n_jobs=-1)(\n",
    "# #     delayed(get_box)(a) for a in tqdm(df.mask_shorts)\n",
    "# # )\n",
    "# # df['boxes_shorts'] = boxes_shorts\n",
    "\n",
    "# # tqdm._instances.clear()\n",
    "# # mask_prolonged_shorts = Parallel(n_jobs=14)(\n",
    "# #     delayed(prolong_shorts)(a, b, c) for a, b, c in tqdm(zip(df.mask_shorts, df.left_ankles, df.right_ankles))\n",
    "# # )\n",
    "# # df['mask_prolonged_shorts'] = mask_prolonged_shorts"
   ]
  }
 ],
 "metadata": {
  "kernelspec": {
   "display_name": "skirts",
   "language": "python",
   "name": "python3"
  },
  "language_info": {
   "codemirror_mode": {
    "name": "ipython",
    "version": 3
   },
   "file_extension": ".py",
   "mimetype": "text/x-python",
   "name": "python",
   "nbconvert_exporter": "python",
   "pygments_lexer": "ipython3",
   "version": "3.10.9"
  },
  "orig_nbformat": 4,
  "vscode": {
   "interpreter": {
    "hash": "89f085fd51f8d48a6db4ab3f88b5fca8f0c994474eaa3e43a6c160d94f56ce99"
   }
  }
 },
 "nbformat": 4,
 "nbformat_minor": 2
}
