{
 "cells": [
  {
   "cell_type": "code",
   "execution_count": 1,
   "metadata": {},
   "outputs": [],
   "source": [
    "import matplotlib.pyplot as plt\n",
    "from matplotlib.pyplot import imshow\n",
    "from tqdm import tqdm\n",
    "from PIL import Image, ImageDraw, ImageFont\n",
    "import pandas as pd\n",
    "import numpy as np\n",
    "import cv2\n",
    "import os\n",
    "from skimage.morphology import convex_hull_image, binary_closing, square, dilation\n",
    "from scipy import ndimage"
   ]
  },
  {
   "cell_type": "code",
   "execution_count": 2,
   "metadata": {},
   "outputs": [],
   "source": [
    "#  load all images from a directory\n",
    "def load_images_from_folder(folder):\n",
    "    images = []\n",
    "    filenames = []\n",
    "    for filename in tqdm(os.listdir(folder)):\n",
    "        try:\n",
    "            img = Image.open(os.path.join(folder,filename))\n",
    "            if img is not None:\n",
    "                if img.mode != 'RGB':\n",
    "                    img = img.convert('RGB')\n",
    "                img = np.array(img)\n",
    "                images.append(img)\n",
    "                filenames.append(filename)\n",
    "        except Exception as e:\n",
    "            print(e)\n",
    "    return images, filenames"
   ]
  },
  {
   "cell_type": "code",
   "execution_count": 3,
   "metadata": {},
   "outputs": [],
   "source": [
    "# load all jsons from a directory\n",
    "def load_jsons_from_folder(folder):\n",
    "    jsons = []\n",
    "    filenames = []\n",
    "    for filename in tqdm(os.listdir(folder)):\n",
    "        try:\n",
    "            json = pd.read_json(os.path.join(folder,filename))\n",
    "            if json is not None:\n",
    "                jsons.append(json)\n",
    "                filenames.append(filename)\n",
    "        except Exception as e:\n",
    "            print(e)\n",
    "    return jsons, filenames"
   ]
  },
  {
   "cell_type": "code",
   "execution_count": 4,
   "metadata": {},
   "outputs": [
    {
     "name": "stderr",
     "output_type": "stream",
     "text": [
      "100%|██████████| 704/704 [00:04<00:00, 150.74it/s]\n",
      "  1%|▏         | 10/705 [00:00<00:13, 50.30it/s]"
     ]
    },
    {
     "name": "stdout",
     "output_type": "stream",
     "text": [
      "cannot identify image file 'Task/dataset/image\\\\.DS_Store'\n"
     ]
    },
    {
     "name": "stderr",
     "output_type": "stream",
     "text": [
      "100%|██████████| 705/705 [00:07<00:00, 98.36it/s] \n",
      "100%|██████████| 704/704 [00:02<00:00, 316.61it/s]\n",
      "100%|██████████| 704/704 [00:05<00:00, 117.68it/s]\n",
      "100%|██████████| 704/704 [00:00<00:00, 703883.20it/s]\n",
      "100%|██████████| 704/704 [00:00<00:00, 705565.12it/s]\n"
     ]
    }
   ],
   "source": [
    "LOAD_CLEAN = True\n",
    "if LOAD_CLEAN:\n",
    "    human_parsing = load_images_from_folder('Task/dataset/human_parsing')\n",
    "    image = load_images_from_folder('Task/dataset/image')\n",
    "    pose_json = load_jsons_from_folder('Task/dataset/pose_json')\n",
    "    pose_img = load_images_from_folder('Task/dataset/pose_img')\n",
    "    df = pd.DataFrame()\n",
    "    df['human_parsing'] = human_parsing[0]\n",
    "    df['image'] = image[0]\n",
    "    df['pose_json'] = pose_json[0]\n",
    "    df['pose_img'] = pose_img[0]\n",
    "    df['ids'] = [a.split('.')[0] for a in image[1]]\n",
    "    df['pose_keypoints'] = df.pose_json.apply(lambda x: x.people[0].get('pose_keypoints_2d'))\n",
    "    left_ankles = [a[3*11:3*12-1] for a in tqdm(df.pose_keypoints)]\n",
    "    right_ankles = [a[3*14:3*15-1] for a in tqdm(df.pose_keypoints)]\n",
    "    df['left_ankles'] = left_ankles\n",
    "    df['right_ankles'] = right_ankles\n",
    "    df.to_pickle('df.pkl')\n",
    "else:\n",
    "    df = pd.read_pickle('df.pkl')"
   ]
  },
  {
   "cell_type": "code",
   "execution_count": null,
   "metadata": {},
   "outputs": [],
   "source": [
    "short_colors = {(64, 0, 128), (192, 0, 0)}\n",
    "legs_colors = {(128,64,0), (0,64,0)}\n",
    "\n",
    "shirt_colors = {(128,0,128), (128,128,128), (128,64,128)}\n",
    "hands_colors = {(192,128,128),(64,128,128)}\n",
    "\n",
    "# skirt_colors = short_colors.union(legs_colors)\n",
    "# body_colors = shirt_colors.union(hands_colors)"
   ]
  },
  {
   "cell_type": "code",
   "execution_count": null,
   "metadata": {},
   "outputs": [],
   "source": [
    "def get_color_mask(img, colors):\n",
    "    mask = np.zeros(img.shape[:2], dtype=np.uint8)\n",
    "    for color in colors:\n",
    "        mask += np.all(img == color, axis=-1).astype(np.uint8)\n",
    "    return mask\n",
    "\n",
    "def clean_outliers(mask):\n",
    "    labels, num_labels = ndimage.label(mask)\n",
    "    component_sizes = ndimage.sum(mask, labels, range(num_labels + 1))\n",
    "    mask_largest_component = (labels == component_sizes.argmax())\n",
    "    return mask_largest_component\n",
    "\n",
    "def apply_mask(img, mask):\n",
    "    img = np.array(img)\n",
    "    img[mask] = (128, 128, 128)\n",
    "    return Image.fromarray(img)"
   ]
  },
  {
   "cell_type": "code",
   "execution_count": null,
   "metadata": {},
   "outputs": [],
   "source": [
    "RENDER = True\n",
    "if RENDER:\n",
    "    tqdm._instances.clear()\n",
    "    mask_shorts = [get_color_mask(a, short_colors) for a in tqdm(human_parsing[0])]\n",
    "    mask_legs = [get_color_mask(a, legs_colors) for a in tqdm(human_parsing[0])]\n",
    "    mask_legs_and_shorts = [np.logical_or(a, b) for a, b in tqdm(zip(mask_shorts, mask_legs))]\n",
    "\n",
    "    mask_shirts = [get_color_mask(a, shirt_colors) for a in tqdm(human_parsing[0])]\n",
    "    mask_hands = [get_color_mask(a, hands_colors) for a in tqdm(human_parsing[0])]\n",
    "    mask_upper_body = [np.logical_or(a, b) for a, b in tqdm(zip(mask_shirts, mask_hands))]\n",
    "    mask_upper_body_clean = [clean_outliers(a) for a in tqdm(mask_upper_body)]\n",
    "\n",
    "    mask_skirts_clean = [np.logical_and(a, np.logical_not(b)) for a, b in tqdm(zip(mask_legs_and_shorts, mask_upper_body_clean))]\n",
    "    mask_skirts_clean_no_outliers = [clean_outliers(a) for a in tqdm(mask_skirts_clean)]\n",
    "    mask_skirts_clean_convex = [convex_hull_image(a) for a in tqdm(mask_skirts_clean_no_outliers)]\n",
    "    mask_skirts_final = [np.logical_and(a, np.logical_not(b)) for a, b in tqdm(zip(mask_skirts_clean_convex, mask_upper_body_clean))]\n",
    "\n",
    "    processed_images = [apply_mask(a, b) for a, b in tqdm(zip(df.image, mask_skirts_final))]\n",
    "    \n",
    "    df['mask_shorts'] = mask_shorts\n",
    "    df['mask_legs'] = mask_legs\n",
    "    df['mask_shirts'] = mask_shirts\n",
    "    df['mask_hands'] = mask_hands\n",
    "\n",
    "    df['mask_legs_and_shorts'] = mask_legs_and_shorts\n",
    "    df['mask_upper_body'] = mask_upper_body\n",
    "    df['mask_skirts_clean'] = mask_skirts_clean\n",
    "    df['mask_skirts_clean_no_outliers'] = mask_skirts_clean_no_outliers\n",
    "    df['mask_skirts_clean_convex'] = mask_skirts_clean_convex\n",
    "    df['mask_skirts_final'] = mask_skirts_final\n",
    "    df['processed_images'] = processed_images\n",
    "    df.to_pickle('df_full.pkl')\n",
    "else:\n",
    "    df = pd.read_pickle('df_full.pkl')"
   ]
  },
  {
   "cell_type": "code",
   "execution_count": null,
   "metadata": {},
   "outputs": [],
   "source": [
    "# save processed_images to /preprocessed\n",
    "SAVE_PROCESSED = False\n",
    "if SAVE_PROCESSED:\n",
    "    for i, img in tqdm(enumerate(processed_images)):\n",
    "        img.save('C:/code/python/test_task_big/preprocessed_5/' + df.ids[i] + '.jpg')"
   ]
  },
  {
   "cell_type": "code",
   "execution_count": null,
   "metadata": {},
   "outputs": [],
   "source": [
    "left_ankles = [a[3*11:3*12-1] for a in tqdm(df.pose_keypoints)]\n",
    "right_ankles = [a[3*14:3*15-1] for a in tqdm(df.pose_keypoints)]\n",
    "left_ankles[0], right_ankles[0]"
   ]
  },
  {
   "cell_type": "code",
   "execution_count": null,
   "metadata": {},
   "outputs": [],
   "source": [
    "# make mask over df.image[0] such there is line between left and right ankle\n",
    "# and everything below this line is black\n",
    "# and everything above this line is white"
   ]
  },
  {
   "cell_type": "code",
   "execution_count": null,
   "metadata": {},
   "outputs": [],
   "source": [
    "img_cols = set(df.columns) - set(['ids', 'pose_keypoints', 'pose_json'])\n",
    "img_cols = [\n",
    "    'image',\n",
    "    'human_parsing',\n",
    "    'pose_img',\n",
    "    'mask_shorts',\n",
    "    'mask_legs',\n",
    "    'mask_legs_and_shorts',\n",
    "    'mask_shirts',\n",
    "    'mask_hands',\n",
    "    'mask_upper_body',\n",
    "    'mask_skirts_clean',\n",
    "    'mask_skirts_clean_no_outliers',\n",
    "    'mask_skirts_clean_convex',\n",
    "    'mask_skirts_final',\n",
    "    'processed_images'\n",
    " ]"
   ]
  },
  {
   "cell_type": "code",
   "execution_count": null,
   "metadata": {},
   "outputs": [],
   "source": [
    "def show_images_df(df, cols, index):\n",
    "    fig, axes = plt.subplots(1, len(cols), figsize=(20, 20))\n",
    "    for i, col in enumerate(cols):\n",
    "        axes[i].imshow(df[col][index])\n",
    "        axes[i].set_title(col)\n",
    "    plt.show()\n",
    "    # save image\n",
    "    fig.savefig('full_outs/' + df.ids[index] + '.jpg')"
   ]
  },
  {
   "cell_type": "code",
   "execution_count": null,
   "metadata": {},
   "outputs": [],
   "source": [
    "show_images_df(df, img_cols, 0)"
   ]
  },
  {
   "cell_type": "code",
   "execution_count": null,
   "metadata": {},
   "outputs": [],
   "source": [
    "# HELPER FUNCTIONS\n",
    "# def draw_pose(img, poses):\n",
    "#     draw = ImageDraw.Draw(img)\n",
    "#     for i in range(0, len(poses), 3):\n",
    "#         draw.ellipse((poses[i]-5, poses[i+1]-5, poses[i]+5, poses[i+1]+5), fill=(255, 0, 0, 255))\n",
    "#         draw.text((poses[i], poses[i+1]), str(i//3), fill=(255, 0, 0, 0), font= ImageFont.truetype(\"arial.ttf\", 30))\n",
    "#     return img\n",
    "# draw_pose(df.image[0], df.pose_keypoints[0])\n",
    "\n"
   ]
  }
 ],
 "metadata": {
  "kernelspec": {
   "display_name": "skirts",
   "language": "python",
   "name": "python3"
  },
  "language_info": {
   "codemirror_mode": {
    "name": "ipython",
    "version": 3
   },
   "file_extension": ".py",
   "mimetype": "text/x-python",
   "name": "python",
   "nbconvert_exporter": "python",
   "pygments_lexer": "ipython3",
   "version": "3.10.9"
  },
  "orig_nbformat": 4,
  "vscode": {
   "interpreter": {
    "hash": "89f085fd51f8d48a6db4ab3f88b5fca8f0c994474eaa3e43a6c160d94f56ce99"
   }
  }
 },
 "nbformat": 4,
 "nbformat_minor": 2
}
